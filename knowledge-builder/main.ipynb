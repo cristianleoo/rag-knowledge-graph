{
 "cells": [
  {
   "cell_type": "code",
   "execution_count": null,
   "metadata": {},
   "outputs": [
    {
     "name": "stdout",
     "output_type": "stream",
     "text": [
      "Files downloaded: ['imdb_top_1000.csv']\n"
     ]
    }
   ],
   "source": [
    "import kagglehub\n",
    "from langchain.chains import LLMChain\n",
    "from langchain.prompts import PromptTemplate\n",
    "import os\n",
    "import pandas as pd\n",
    "import ast\n",
    "from neo4j import GraphDatabase\n",
    "\n",
    "from dotenv import load_dotenv\n",
    "load_dotenv()\n",
    "\n",
    "from langchain_google_genai import GoogleGenerativeAI\n",
    "api_key = os.getenv(\"GOOGLE_API_KEY\")\n",
    "\n",
    "# Download latest version\n",
    "path = kagglehub.dataset_download(\"harshitshankhdhar/imdb-dataset-of-top-1000-movies-and-tv-shows\")\n",
    "\n",
    "print(\"Files downloaded:\", os.listdir(path))"
   ]
  },
  {
   "cell_type": "code",
   "execution_count": 127,
   "metadata": {},
   "outputs": [
    {
     "data": {
      "text/html": [
       "<div>\n",
       "<style scoped>\n",
       "    .dataframe tbody tr th:only-of-type {\n",
       "        vertical-align: middle;\n",
       "    }\n",
       "\n",
       "    .dataframe tbody tr th {\n",
       "        vertical-align: top;\n",
       "    }\n",
       "\n",
       "    .dataframe thead th {\n",
       "        text-align: right;\n",
       "    }\n",
       "</style>\n",
       "<table border=\"1\" class=\"dataframe\">\n",
       "  <thead>\n",
       "    <tr style=\"text-align: right;\">\n",
       "      <th></th>\n",
       "      <th>Poster_Link</th>\n",
       "      <th>Series_Title</th>\n",
       "      <th>Released_Year</th>\n",
       "      <th>Certificate</th>\n",
       "      <th>Runtime</th>\n",
       "      <th>Genre</th>\n",
       "      <th>IMDB_Rating</th>\n",
       "      <th>Overview</th>\n",
       "      <th>Meta_score</th>\n",
       "      <th>Director</th>\n",
       "      <th>Star1</th>\n",
       "      <th>Star2</th>\n",
       "      <th>Star3</th>\n",
       "      <th>Star4</th>\n",
       "      <th>No_of_Votes</th>\n",
       "      <th>Gross</th>\n",
       "    </tr>\n",
       "  </thead>\n",
       "  <tbody>\n",
       "    <tr>\n",
       "      <th>0</th>\n",
       "      <td>https://m.media-amazon.com/images/M/MV5BMDFkYT...</td>\n",
       "      <td>The Shawshank Redemption</td>\n",
       "      <td>1994</td>\n",
       "      <td>A</td>\n",
       "      <td>142 min</td>\n",
       "      <td>Drama</td>\n",
       "      <td>9.3</td>\n",
       "      <td>Two imprisoned men bond over a number of years...</td>\n",
       "      <td>80.0</td>\n",
       "      <td>Frank Darabont</td>\n",
       "      <td>Tim Robbins</td>\n",
       "      <td>Morgan Freeman</td>\n",
       "      <td>Bob Gunton</td>\n",
       "      <td>William Sadler</td>\n",
       "      <td>2343110</td>\n",
       "      <td>28,341,469</td>\n",
       "    </tr>\n",
       "    <tr>\n",
       "      <th>1</th>\n",
       "      <td>https://m.media-amazon.com/images/M/MV5BM2MyNj...</td>\n",
       "      <td>The Godfather</td>\n",
       "      <td>1972</td>\n",
       "      <td>A</td>\n",
       "      <td>175 min</td>\n",
       "      <td>Crime, Drama</td>\n",
       "      <td>9.2</td>\n",
       "      <td>An organized crime dynasty's aging patriarch t...</td>\n",
       "      <td>100.0</td>\n",
       "      <td>Francis Ford Coppola</td>\n",
       "      <td>Marlon Brando</td>\n",
       "      <td>Al Pacino</td>\n",
       "      <td>James Caan</td>\n",
       "      <td>Diane Keaton</td>\n",
       "      <td>1620367</td>\n",
       "      <td>134,966,411</td>\n",
       "    </tr>\n",
       "    <tr>\n",
       "      <th>2</th>\n",
       "      <td>https://m.media-amazon.com/images/M/MV5BMTMxNT...</td>\n",
       "      <td>The Dark Knight</td>\n",
       "      <td>2008</td>\n",
       "      <td>UA</td>\n",
       "      <td>152 min</td>\n",
       "      <td>Action, Crime, Drama</td>\n",
       "      <td>9.0</td>\n",
       "      <td>When the menace known as the Joker wreaks havo...</td>\n",
       "      <td>84.0</td>\n",
       "      <td>Christopher Nolan</td>\n",
       "      <td>Christian Bale</td>\n",
       "      <td>Heath Ledger</td>\n",
       "      <td>Aaron Eckhart</td>\n",
       "      <td>Michael Caine</td>\n",
       "      <td>2303232</td>\n",
       "      <td>534,858,444</td>\n",
       "    </tr>\n",
       "    <tr>\n",
       "      <th>3</th>\n",
       "      <td>https://m.media-amazon.com/images/M/MV5BMWMwMG...</td>\n",
       "      <td>The Godfather: Part II</td>\n",
       "      <td>1974</td>\n",
       "      <td>A</td>\n",
       "      <td>202 min</td>\n",
       "      <td>Crime, Drama</td>\n",
       "      <td>9.0</td>\n",
       "      <td>The early life and career of Vito Corleone in ...</td>\n",
       "      <td>90.0</td>\n",
       "      <td>Francis Ford Coppola</td>\n",
       "      <td>Al Pacino</td>\n",
       "      <td>Robert De Niro</td>\n",
       "      <td>Robert Duvall</td>\n",
       "      <td>Diane Keaton</td>\n",
       "      <td>1129952</td>\n",
       "      <td>57,300,000</td>\n",
       "    </tr>\n",
       "    <tr>\n",
       "      <th>4</th>\n",
       "      <td>https://m.media-amazon.com/images/M/MV5BMWU4N2...</td>\n",
       "      <td>12 Angry Men</td>\n",
       "      <td>1957</td>\n",
       "      <td>U</td>\n",
       "      <td>96 min</td>\n",
       "      <td>Crime, Drama</td>\n",
       "      <td>9.0</td>\n",
       "      <td>A jury holdout attempts to prevent a miscarria...</td>\n",
       "      <td>96.0</td>\n",
       "      <td>Sidney Lumet</td>\n",
       "      <td>Henry Fonda</td>\n",
       "      <td>Lee J. Cobb</td>\n",
       "      <td>Martin Balsam</td>\n",
       "      <td>John Fiedler</td>\n",
       "      <td>689845</td>\n",
       "      <td>4,360,000</td>\n",
       "    </tr>\n",
       "  </tbody>\n",
       "</table>\n",
       "</div>"
      ],
      "text/plain": [
       "                                         Poster_Link  \\\n",
       "0  https://m.media-amazon.com/images/M/MV5BMDFkYT...   \n",
       "1  https://m.media-amazon.com/images/M/MV5BM2MyNj...   \n",
       "2  https://m.media-amazon.com/images/M/MV5BMTMxNT...   \n",
       "3  https://m.media-amazon.com/images/M/MV5BMWMwMG...   \n",
       "4  https://m.media-amazon.com/images/M/MV5BMWU4N2...   \n",
       "\n",
       "               Series_Title Released_Year Certificate  Runtime  \\\n",
       "0  The Shawshank Redemption          1994           A  142 min   \n",
       "1             The Godfather          1972           A  175 min   \n",
       "2           The Dark Knight          2008          UA  152 min   \n",
       "3    The Godfather: Part II          1974           A  202 min   \n",
       "4              12 Angry Men          1957           U   96 min   \n",
       "\n",
       "                  Genre  IMDB_Rating  \\\n",
       "0                 Drama          9.3   \n",
       "1          Crime, Drama          9.2   \n",
       "2  Action, Crime, Drama          9.0   \n",
       "3          Crime, Drama          9.0   \n",
       "4          Crime, Drama          9.0   \n",
       "\n",
       "                                            Overview  Meta_score  \\\n",
       "0  Two imprisoned men bond over a number of years...        80.0   \n",
       "1  An organized crime dynasty's aging patriarch t...       100.0   \n",
       "2  When the menace known as the Joker wreaks havo...        84.0   \n",
       "3  The early life and career of Vito Corleone in ...        90.0   \n",
       "4  A jury holdout attempts to prevent a miscarria...        96.0   \n",
       "\n",
       "               Director           Star1           Star2          Star3  \\\n",
       "0        Frank Darabont     Tim Robbins  Morgan Freeman     Bob Gunton   \n",
       "1  Francis Ford Coppola   Marlon Brando       Al Pacino     James Caan   \n",
       "2     Christopher Nolan  Christian Bale    Heath Ledger  Aaron Eckhart   \n",
       "3  Francis Ford Coppola       Al Pacino  Robert De Niro  Robert Duvall   \n",
       "4          Sidney Lumet     Henry Fonda     Lee J. Cobb  Martin Balsam   \n",
       "\n",
       "            Star4  No_of_Votes        Gross  \n",
       "0  William Sadler      2343110   28,341,469  \n",
       "1    Diane Keaton      1620367  134,966,411  \n",
       "2   Michael Caine      2303232  534,858,444  \n",
       "3    Diane Keaton      1129952   57,300,000  \n",
       "4    John Fiedler       689845    4,360,000  "
      ]
     },
     "execution_count": 127,
     "metadata": {},
     "output_type": "execute_result"
    }
   ],
   "source": [
    "movies = pd.read_csv(os.path.join(path, 'imdb_top_1000.csv')).head(10)\n",
    "\n",
    "movies.head()"
   ]
  },
  {
   "cell_type": "code",
   "execution_count": 153,
   "metadata": {},
   "outputs": [],
   "source": [
    "# Set up Neo4j connection\n",
    "class Neo4jConnection:\n",
    "    def __init__(self, uri, user, password):\n",
    "        self.driver = GraphDatabase.driver(uri, auth=(user, password))\n",
    "\n",
    "    def close(self):\n",
    "        self.driver.close()\n",
    "        print(\"Connection closed\")\n",
    "\n",
    "    def reset_database(self):\n",
    "        with self.driver.session() as session:\n",
    "            session.run(\"MATCH (n) DETACH DELETE n\")\n",
    "        print(\"Database resetted successfully!\")\n",
    "\n",
    "    def add_document(self, documents: list):\n",
    "        self.driver.add_graph_documents(documents)\n",
    "\n",
    "    def execute_query(self, query, parameters=None):\n",
    "        with self.driver.session() as session:\n",
    "            result = session.run(query, parameters or {})\n",
    "            return [record for record in result]\n",
    "\n",
    "# Connect to Neo4j\n",
    "uri = \"bolt://localhost:7687\"\n",
    "user = \"neo4j\"\n",
    "password = \"ilovemovies\"\n",
    "conn = Neo4jConnection(uri, user, password)"
   ]
  },
  {
   "cell_type": "code",
   "execution_count": 135,
   "metadata": {},
   "outputs": [
    {
     "name": "stdout",
     "output_type": "stream",
     "text": [
      "Database resetted successfully!\n"
     ]
    }
   ],
   "source": [
    "conn.reset_database()"
   ]
  },
  {
   "cell_type": "markdown",
   "metadata": {},
   "source": [
    "# Manual Upload"
   ]
  },
  {
   "cell_type": "code",
   "execution_count": null,
   "metadata": {},
   "outputs": [],
   "source": [
    "# Function to Load DataFrame into Neo4j\n",
    "def load_movies_to_neo4j(movies_df, connection):\n",
    "    for _, row in movies_df.iterrows():\n",
    "        # Create Movie Node\n",
    "        connection.execute_query( \n",
    "            \"\"\"\n",
    "            MERGE (movie:Movie {title: $title})\n",
    "            SET movie.year = $year,\n",
    "                movie.rating = $rating,\n",
    "                movie.genre = $genre,\n",
    "                movie.runtime = $runtime,\n",
    "                movie.overview = $overview;\n",
    "            \"\"\",\n",
    "            parameters={\n",
    "                \"title\": row[\"Series_Title\"],\n",
    "                \"year\": int(row[\"Released_Year\"]),\n",
    "                \"rating\": float(row[\"IMDB_Rating\"]),\n",
    "                \"genre\": row[\"Genre\"],\n",
    "                \"runtime\": row[\"Runtime\"],\n",
    "                \"overview\": row[\"Overview\"],\n",
    "            },\n",
    "        )\n",
    "\n",
    "        # Create Director Node and Relationship\n",
    "        connection.execute_query(\n",
    "            \"\"\"\n",
    "            MERGE (director:Director {name: $name})\n",
    "            MERGE (movie:Movie {title: $title})\n",
    "            MERGE (director)-[:DIRECTED]->(movie);\n",
    "            \"\"\",\n",
    "            parameters={\n",
    "                \"name\": row[\"Director\"],\n",
    "                \"title\": row[\"Series_Title\"],\n",
    "            },\n",
    "        )\n",
    "\n",
    "        # Create Actor Nodes and Relationships\n",
    "        for actor in [row[\"Star1\"], row[\"Star2\"], row[\"Star3\"], row[\"Star4\"]]:\n",
    "            connection.execute_query(\n",
    "                \"\"\"\n",
    "                MERGE (actor:Actor {name: $name})\n",
    "                MERGE (movie:Movie {title: $title})\n",
    "                MERGE (actor)-[:ACTED_IN]->(movie);\n",
    "                \"\"\",\n",
    "                parameters={\n",
    "                    \"name\": actor,\n",
    "                    \"title\": row[\"Series_Title\"],\n",
    "                },\n",
    "            )\n",
    "\n",
    "# Load DataFrame to Neo4j\n",
    "load_movies_to_neo4j(movies, conn)"
   ]
  },
  {
   "cell_type": "code",
   "execution_count": 23,
   "metadata": {},
   "outputs": [
    {
     "data": {
      "text/plain": [
       "[<Record m.title='The Shawshank Redemption' a.name='William Sadler'>,\n",
       " <Record m.title='The Shawshank Redemption' a.name='Bob Gunton'>,\n",
       " <Record m.title='The Shawshank Redemption' a.name='Morgan Freeman'>,\n",
       " <Record m.title='The Shawshank Redemption' a.name='Tim Robbins'>,\n",
       " <Record m.title='The Godfather' a.name='Diane Keaton'>,\n",
       " <Record m.title='The Godfather' a.name='James Caan'>,\n",
       " <Record m.title='The Godfather' a.name='Al Pacino'>,\n",
       " <Record m.title='The Godfather' a.name='Marlon Brando'>,\n",
       " <Record m.title='The Dark Knight' a.name='Michael Caine'>,\n",
       " <Record m.title='The Dark Knight' a.name='Aaron Eckhart'>,\n",
       " <Record m.title='The Dark Knight' a.name='Heath Ledger'>,\n",
       " <Record m.title='The Dark Knight' a.name='Christian Bale'>,\n",
       " <Record m.title='The Godfather: Part II' a.name='Diane Keaton'>,\n",
       " <Record m.title='The Godfather: Part II' a.name='Robert Duvall'>,\n",
       " <Record m.title='The Godfather: Part II' a.name='Robert De Niro'>,\n",
       " <Record m.title='The Godfather: Part II' a.name='Al Pacino'>,\n",
       " <Record m.title='12 Angry Men' a.name='John Fiedler'>,\n",
       " <Record m.title='12 Angry Men' a.name='Martin Balsam'>,\n",
       " <Record m.title='12 Angry Men' a.name='Lee J. Cobb'>,\n",
       " <Record m.title='12 Angry Men' a.name='Henry Fonda'>]"
      ]
     },
     "execution_count": 23,
     "metadata": {},
     "output_type": "execute_result"
    }
   ],
   "source": [
    "query = \"\"\"\n",
    "MATCH (m:Movie)-[:ACTED_IN]-(a:Actor)\n",
    "RETURN m.title, a.name;\n",
    "\"\"\"\n",
    "conn.execute_query(query)"
   ]
  },
  {
   "cell_type": "code",
   "execution_count": null,
   "metadata": {},
   "outputs": [
    {
     "name": "stdout",
     "output_type": "stream",
     "text": [
      "Poster_Link: https://m.media-amazon.com/images/M/MV5BMDFkYTc0MGEtZmNhMC00ZDIzLWFmNTEtODM1ZmRlYWMwMWFmXkEyXkFqcGdeQXVyMTMxODk2OTU@._V1_UX67_CR0,0,67,98_AL_.jpg, https://m.media-amazon.com/images/M/MV5BM2MyNjYxNmUtYTAwNi00MTYxLWJmNWYtYzZlODY3ZTk3OTFlXkEyXkFqcGdeQXVyNzkwMjQ5NzM@._V1_UY98_CR1,0,67,98_AL_.jpg, https://m.media-amazon.com/images/M/MV5BMTMxNTMwODM0NF5BMl5BanBnXkFtZTcwODAyMTk2Mw@@._V1_UX67_CR0,0,67,98_AL_.jpg...\n",
      "Series_Title: The Shawshank Redemption, The Godfather, The Dark Knight...\n",
      "Released_Year: 1994, 1972, 2008...\n",
      "Certificate: A, UA, U...\n",
      "Runtime: 142 min, 175 min, 152 min...\n",
      "Genre: Drama, Crime, Drama, Action, Crime, Drama...\n",
      "IMDB_Rating: 9.3, 9.2, 9.0...\n",
      "Overview: Two imprisoned men bond over a number of years, finding solace and eventual redemption through acts of common decency., An organized crime dynasty's aging patriarch transfers control of his clandestine empire to his reluctant son., When the menace known as the Joker wreaks havoc and chaos on the people of Gotham, Batman must accept one of the greatest psychological and physical tests of his ability to fight injustice....\n",
      "Meta_score: 80.0, 100.0, 84.0...\n",
      "Director: Frank Darabont, Francis Ford Coppola, Christopher Nolan...\n",
      "Star1: Tim Robbins, Marlon Brando, Christian Bale...\n",
      "Star2: Morgan Freeman, Al Pacino, Heath Ledger...\n",
      "Star3: Bob Gunton, James Caan, Aaron Eckhart...\n",
      "Star4: William Sadler, Diane Keaton, Michael Caine...\n",
      "No_of_Votes: 2343110, 1620367, 2303232...\n",
      "Gross: 28,341,469, 134,966,411, 534,858,444...\n"
     ]
    }
   ],
   "source": [
    "# Initialize Google Generative AI\n",
    "llm = GoogleGenerativeAI(model=\"gemini-1.5-flash\", google_api_key=api_key)\n",
    "\n",
    "df = movies.copy()\n",
    "\n",
    "# Step 1: Define Node Labels and Properties\n",
    "node_structure = \"\\n\".join(\n",
    "    [f\"{col}: {', '.join(map(str, df[col].unique()[:3]))}...\" for col in df.columns]\n",
    ")\n",
    "\n",
    "print(node_structure)"
   ]
  },
  {
   "cell_type": "code",
   "execution_count": null,
   "metadata": {},
   "outputs": [
    {
     "name": "stdout",
     "output_type": "stream",
     "text": [
      "Node Definitions: {'Movie': {'Poster_Link': \"row['Poster_Link']\", 'Series_Title': \"row['Series_Title']\", 'Released_Year': \"row['Released_Year']\", 'Certificate': \"row['Certificate']\", 'Runtime': \"row['Runtime']\", 'Genre': \"row['Genre']\", 'IMDB_Rating': \"row['IMDB_Rating']\", 'Overview': \"row['Overview']\", 'Meta_score': \"row['Meta_score']\", 'Director': \"row['Director']\", 'No_of_Votes': \"row['No_of_Votes']\", 'Gross': \"row['Gross']\"}, 'Actor': {'Star1': \"row['Star1']\", 'Star2': \"row['Star2']\", 'Star3': \"row['Star3']\", 'Star4': \"row['Star4']\"}}\n"
     ]
    }
   ],
   "source": [
    "node_example = {\n",
    "    \"NodeLabel1\": {\"property1\": \"row['property1']\", \"property2\": \"row['property2']\"},\n",
    "    \"NodeLabel2\": {\"property1\": \"row['property1']\", \"property2\": \"row['property2']\"},\n",
    "}\n",
    "\n",
    "define_nodes_prompt = PromptTemplate(\n",
    "    input_variables=[\"structure\", \"example\"],\n",
    "    template=(\"\"\"\n",
    "        Analyze the dataset structure below and define labels for nodes and their properties.\\n\n",
    "        The node properties should be based on the dataset columns and their values.\\n\n",
    "        Return the result as a dictionary where the keys are the node labels and the values are the node properties.\\n\\n\n",
    "        Example: {example}\\n\\n\n",
    "        \n",
    "        Dataset Structure:\\n{structure}\\n\\n\n",
    "              \n",
    "        Make sure to include all the possible node labels and their properties. \n",
    "        Return only the dictionary containing node labels and properties, and don't include any other text or quotation.\n",
    "        \"\"\"\n",
    "    ),\n",
    ")\n",
    "\n",
    "\n",
    "node_chain = LLMChain(llm=llm, prompt=define_nodes_prompt)\n",
    "node_definitions = node_chain.run(structure=node_structure, example=node_example)\n",
    "node_definitions = ast.literal_eval(node_definitions)\n",
    "\n",
    "print(\"Node Definitions:\", node_definitions)"
   ]
  },
  {
   "cell_type": "code",
   "execution_count": 75,
   "metadata": {},
   "outputs": [
    {
     "name": "stdout",
     "output_type": "stream",
     "text": [
      "Relationships: [('Movie', 'DIRECTED_BY', 'Director'), ('Movie', 'ACTED_IN', 'Actor'), ('Movie', 'ACTED_IN', 'Actor'), ('Movie', 'ACTED_IN', 'Actor'), ('Movie', 'ACTED_IN', 'Actor')]\n"
     ]
    }
   ],
   "source": [
    "relationship_example = [\n",
    "    (\"NodeLabel1\", \"RelationshipLabel\", \"NodeLabel2\"),\n",
    "    (\"NodeLabel1\", \"RelationshipLabel\", \"NodeLabel3\"),\n",
    "    (\"NodeLabel2\", \"RelationshipLabel\", \"NodeLabel3\"),\n",
    "]\n",
    "\n",
    "# Step 2: Identify Relationships\n",
    "identify_relationships_prompt = PromptTemplate(\n",
    "    input_variables=[\"structure\", \"node_definitions\", \"example\"],\n",
    "    template=\"\"\"\n",
    "        Consider the following Dataset Structure:\\n{structure}\\n\\n\n",
    "\n",
    "        Consider the following Node Definitions:\\n{node_definitions}\\n\\n\n",
    "\n",
    "        Based on the dataset structure and node definitions, identify relationships (edges) between nodes.\\n\n",
    "        Return the relationships as a list of triples where each triple contains the start node label, relationship label, and end node label, and each triple is a tuple.\\n\n",
    "        Please return only the list of tuples. Please do not report triple backticks to identify a code block, just return the list of tuples.\\n\\n\n",
    "\n",
    "        Example:\\n{example}\n",
    "    \"\"\"\n",
    ")\n",
    "\n",
    "relationship_chain = LLMChain(llm=llm, prompt=identify_relationships_prompt)\n",
    "relationships = relationship_chain.run(structure=node_structure, node_definitions=str(node_definitions), example=str(relationship_example))\n",
    "\n",
    "# Convert the output to a Python list of tuples\n",
    "relationships = eval(relationships)\n",
    "print(\"Relationships:\", relationships)"
   ]
  },
  {
   "cell_type": "code",
   "execution_count": null,
   "metadata": {},
   "outputs": [
    {
     "name": "stdout",
     "output_type": "stream",
     "text": [
      "Cypher Queries: CREATE (m:Movie {Poster_Link: \"row['Poster_Link']\", Series_Title: \"row['Series_Title']\", Released_Year: \"row['Released_Year']\", Certificate: \"row['Certificate']\", Runtime: \"row['Runtime']\", Genre: \"row['Genre']\", IMDB_Rating: \"row['IMDB_Rating']\", Overview: \"row['Overview']\", Meta_score: \"row['Meta_score']\", Director: \"row['Director']\", No_of_Votes: \"row['No_of_Votes']\", Gross: \"row['Gross']\"})CREATE (a1:Actor {Star1: \"row['Star1']\"})CREATE (a2:Actor {Star2: \"row['Star2']\"})CREATE (a3:Actor {Star3: \"row['Star3']\"})CREATE (a4:Actor {Star4: \"row['Star4']\"})CREATE (m)-[:DIRECTED_BY]->(:Director {name: \"row['Director']\"})CREATE (m)-[:ACTED_IN]->(a1)CREATE (m)-[:ACTED_IN]->(a2)CREATE (m)-[:ACTED_IN]->(a3)CREATE (m)-[:ACTED_IN]->(a4);\n"
     ]
    }
   ],
   "source": [
    "example_cypher = \"\"\"\n",
    "CREATE (n1:NodeLabel1 {'property1': 'row['property'1]', 'property2': 'row['property2]'})\n",
    "CREATE (n2:NodeLabel2 {'property1': 'row['property'1]', 'property2': 'row['property2]'})\n",
    "CREATE (n1)-[:RelationshipLabel]->(n2);\n",
    "\"\"\"\n",
    "\n",
    "# Step 3: Build Cypher Queries\n",
    "build_cypher_prompt = PromptTemplate(\n",
    "    input_variables=[\"structure\", \"node_definitions\", \"relationships\", \"example\"],\n",
    "    template=\"\"\"\n",
    "        Consider the following Node Definitions:\\n{node_definitions}\\n\\n\n",
    "        Consider the following Relationships:\\n{relationships}\\n\\n\n",
    "        Generate Cypher queries to create nodes and relationships using the node definitions and relationships below. Remember to replace the placeholder values with actual data from the dataset.\\n\n",
    "        Include all the properties in the Node Definitions for each node as defined and create relationships.\\n\n",
    "        Return a single string with each query separated by a semicolon.\\n\n",
    "        Don't include any other text or quotation marks in the response.\\n\n",
    "        Please return only the string containing Cypher queries. Please do not report triple backticks to identify a code block.\\n\\n\n",
    "\n",
    "\n",
    "        Example:\\n{example}\n",
    "    \"\"\"\n",
    ")\n",
    "\n",
    "cypher_chain = LLMChain(llm=llm, prompt=build_cypher_prompt)\n",
    "cypher_queries_str = cypher_chain.run(structure=node_structure, node_definitions=str(node_definitions), relationships=str(relationships), example=example_cypher)\n",
    "\n",
    "# Convert the output to a list of strings\n",
    "cypher_queries = cypher_queries_str.replace('\\n', '')#.split(';')\n",
    "print(\"Cypher Queries:\", cypher_queries)"
   ]
  },
  {
   "cell_type": "code",
   "execution_count": 105,
   "metadata": {},
   "outputs": [
    {
     "name": "stdout",
     "output_type": "stream",
     "text": [
      "CREATE (m:Movie {Poster_Link: \"row['Poster_Link']\", Series_Title: \"row['Series_Title']\", Released_Year: \"row['Released_Year']\", Certificate: \"row['Certificate']\", Runtime: \"row['Runtime']\", Genre: \"row['Genre']\", IMDB_Rating: \"row['IMDB_Rating']\", Overview: \"row['Overview']\", Meta_score: \"row['Meta_score']\", Director: \"row['Director']\", No_of_Votes: \"row['No_of_Votes']\", Gross: \"row['Gross']\"})\n",
      "CREATE (a1:Actor {Star1: \"row['Star1']\"})\n",
      "CREATE (a2:Actor {Star2: \"row['Star2']\"})\n",
      "CREATE (a3:Actor {Star3: \"row['Star3']\"})\n",
      "CREATE (a4:Actor {Star4: \"row['Star4']\"})\n",
      "CREATE (m)-[:DIRECTED_BY]->(a1)\n",
      "CREATE (m)-[:ACTED_IN]->(a2)\n",
      "CREATE (m)-[:ACTED_IN]->(a3)\n",
      "CREATE (m)-[:ACTED_IN]->(a4)\n",
      "\n"
     ]
    }
   ],
   "source": [
    "for q in (cypher_queries):\n",
    "    print(q)"
   ]
  },
  {
   "cell_type": "code",
   "execution_count": null,
   "metadata": {},
   "outputs": [
    {
     "name": "stdout",
     "output_type": "stream",
     "text": [
      "Executed query: CREATE (m:Movie {Poster_Link: \"https://m.media-amazon.com/images/M/MV5BMDFkYTc0MGEtZmNhMC00ZDIzLWFmNTEtODM1ZmRlYWMwMWFmXkEyXkFqcGdeQXVyMTMxODk2OTU@._V1_UX67_CR0,0,67,98_AL_.jpg\", Series_Title: \"The Shawshank Redemption\", Released_Year: \"1994\", Certificate: \"A\", Runtime: \"142 min\", Genre: \"Drama\", IMDB_Rating: \"9.3\", Overview: \"Two imprisoned men bond over a number of years, finding solace and eventual redemption through acts of common decency.\", Meta_score: \"80.0\", Director: \"Frank Darabont\", No_of_Votes: \"2343110\", Gross: \"28,341,469\"})CREATE (a1:Actor {Star1: \"Tim Robbins\"})CREATE (a2:Actor {Star2: \"Morgan Freeman\"})CREATE (a3:Actor {Star3: \"Bob Gunton\"})CREATE (a4:Actor {Star4: \"William Sadler\"})CREATE (m)-[:DIRECTED_BY]->(:Director {name: \"Frank Darabont\"})CREATE (m)-[:ACTED_IN]->(a1)CREATE (m)-[:ACTED_IN]->(a2)CREATE (m)-[:ACTED_IN]->(a3)CREATE (m)-[:ACTED_IN]->(a4);\n",
      "Executed query: CREATE (m:Movie {Poster_Link: \"https://m.media-amazon.com/images/M/MV5BM2MyNjYxNmUtYTAwNi00MTYxLWJmNWYtYzZlODY3ZTk3OTFlXkEyXkFqcGdeQXVyNzkwMjQ5NzM@._V1_UY98_CR1,0,67,98_AL_.jpg\", Series_Title: \"The Godfather\", Released_Year: \"1972\", Certificate: \"A\", Runtime: \"175 min\", Genre: \"Crime, Drama\", IMDB_Rating: \"9.2\", Overview: \"An organized crime dynasty's aging patriarch transfers control of his clandestine empire to his reluctant son.\", Meta_score: \"100.0\", Director: \"Francis Ford Coppola\", No_of_Votes: \"1620367\", Gross: \"134,966,411\"})CREATE (a1:Actor {Star1: \"Marlon Brando\"})CREATE (a2:Actor {Star2: \"Al Pacino\"})CREATE (a3:Actor {Star3: \"James Caan\"})CREATE (a4:Actor {Star4: \"Diane Keaton\"})CREATE (m)-[:DIRECTED_BY]->(:Director {name: \"Francis Ford Coppola\"})CREATE (m)-[:ACTED_IN]->(a1)CREATE (m)-[:ACTED_IN]->(a2)CREATE (m)-[:ACTED_IN]->(a3)CREATE (m)-[:ACTED_IN]->(a4);\n",
      "Executed query: CREATE (m:Movie {Poster_Link: \"https://m.media-amazon.com/images/M/MV5BMTMxNTMwODM0NF5BMl5BanBnXkFtZTcwODAyMTk2Mw@@._V1_UX67_CR0,0,67,98_AL_.jpg\", Series_Title: \"The Dark Knight\", Released_Year: \"2008\", Certificate: \"UA\", Runtime: \"152 min\", Genre: \"Action, Crime, Drama\", IMDB_Rating: \"9.0\", Overview: \"When the menace known as the Joker wreaks havoc and chaos on the people of Gotham, Batman must accept one of the greatest psychological and physical tests of his ability to fight injustice.\", Meta_score: \"84.0\", Director: \"Christopher Nolan\", No_of_Votes: \"2303232\", Gross: \"534,858,444\"})CREATE (a1:Actor {Star1: \"Christian Bale\"})CREATE (a2:Actor {Star2: \"Heath Ledger\"})CREATE (a3:Actor {Star3: \"Aaron Eckhart\"})CREATE (a4:Actor {Star4: \"Michael Caine\"})CREATE (m)-[:DIRECTED_BY]->(:Director {name: \"Christopher Nolan\"})CREATE (m)-[:ACTED_IN]->(a1)CREATE (m)-[:ACTED_IN]->(a2)CREATE (m)-[:ACTED_IN]->(a3)CREATE (m)-[:ACTED_IN]->(a4);\n",
      "Executed query: CREATE (m:Movie {Poster_Link: \"https://m.media-amazon.com/images/M/MV5BMWMwMGQzZTItY2JlNC00OWZiLWIyMDctNDk2ZDQ2YjRjMWQ0XkEyXkFqcGdeQXVyNzkwMjQ5NzM@._V1_UY98_CR1,0,67,98_AL_.jpg\", Series_Title: \"The Godfather: Part II\", Released_Year: \"1974\", Certificate: \"A\", Runtime: \"202 min\", Genre: \"Crime, Drama\", IMDB_Rating: \"9.0\", Overview: \"The early life and career of Vito Corleone in 1920s New York City is portrayed, while his son, Michael, expands and tightens his grip on the family crime syndicate.\", Meta_score: \"90.0\", Director: \"Francis Ford Coppola\", No_of_Votes: \"1129952\", Gross: \"57,300,000\"})CREATE (a1:Actor {Star1: \"Al Pacino\"})CREATE (a2:Actor {Star2: \"Robert De Niro\"})CREATE (a3:Actor {Star3: \"Robert Duvall\"})CREATE (a4:Actor {Star4: \"Diane Keaton\"})CREATE (m)-[:DIRECTED_BY]->(:Director {name: \"Francis Ford Coppola\"})CREATE (m)-[:ACTED_IN]->(a1)CREATE (m)-[:ACTED_IN]->(a2)CREATE (m)-[:ACTED_IN]->(a3)CREATE (m)-[:ACTED_IN]->(a4);\n",
      "Executed query: CREATE (m:Movie {Poster_Link: \"https://m.media-amazon.com/images/M/MV5BMWU4N2FjNzYtNTVkNC00NzQ0LTg0MjAtYTJlMjFhNGUxZDFmXkEyXkFqcGdeQXVyNjc1NTYyMjg@._V1_UX67_CR0,0,67,98_AL_.jpg\", Series_Title: \"12 Angry Men\", Released_Year: \"1957\", Certificate: \"U\", Runtime: \"96 min\", Genre: \"Crime, Drama\", IMDB_Rating: \"9.0\", Overview: \"A jury holdout attempts to prevent a miscarriage of justice by forcing his colleagues to reconsider the evidence.\", Meta_score: \"96.0\", Director: \"Sidney Lumet\", No_of_Votes: \"689845\", Gross: \"4,360,000\"})CREATE (a1:Actor {Star1: \"Henry Fonda\"})CREATE (a2:Actor {Star2: \"Lee J. Cobb\"})CREATE (a3:Actor {Star3: \"Martin Balsam\"})CREATE (a4:Actor {Star4: \"John Fiedler\"})CREATE (m)-[:DIRECTED_BY]->(:Director {name: \"Sidney Lumet\"})CREATE (m)-[:ACTED_IN]->(a1)CREATE (m)-[:ACTED_IN]->(a2)CREATE (m)-[:ACTED_IN]->(a3)CREATE (m)-[:ACTED_IN]->(a4);\n"
     ]
    }
   ],
   "source": [
    "# Iterate over each row of the dataframe\n",
    "for index, row in df.iterrows():\n",
    "    # Replace placeholders with actual values from the dataframe\n",
    "    cypher_query = cypher_queries\n",
    "    for column in df.columns:\n",
    "        cypher_query = cypher_query.replace(f\"row['{column}']\", str(row[column]))\n",
    "        \n",
    "    # Execute the Cypher query\n",
    "    conn.execute_query(cypher_query)\n",
    "    print(f\"Executed query: {cypher_query}\")"
   ]
  },
  {
   "cell_type": "code",
   "execution_count": 114,
   "metadata": {},
   "outputs": [],
   "source": [
    "conn.reset_database()"
   ]
  },
  {
   "cell_type": "code",
   "execution_count": 149,
   "metadata": {},
   "outputs": [
    {
     "name": "stdout",
     "output_type": "stream",
     "text": [
      "Nodes:[Node(id='Tim Robbins', type='Person', properties={}), Node(id='William Sadler', type='Person', properties={}), Node(id='Drama', type='Genre', properties={}), Node(id='Frank Darabont', type='Person', properties={}), Node(id='The Shawshank Redemption', type='Movie', properties={}), Node(id='Morgan Freeman', type='Person', properties={}), Node(id='Bob Gunton', type='Person', properties={})]\n",
      "Relationships:[Relationship(source=Node(id='The Shawshank Redemption', type='Movie', properties={}), target=Node(id='Frank Darabont', type='Person', properties={}), type='HAS_DIRECTOR', properties={}), Relationship(source=Node(id='The Shawshank Redemption', type='Movie', properties={}), target=Node(id='Tim Robbins', type='Person', properties={}), type='HAS_STAR', properties={}), Relationship(source=Node(id='The Shawshank Redemption', type='Movie', properties={}), target=Node(id='Morgan Freeman', type='Person', properties={}), type='HAS_STAR', properties={}), Relationship(source=Node(id='The Shawshank Redemption', type='Movie', properties={}), target=Node(id='Bob Gunton', type='Person', properties={}), type='HAS_STAR', properties={}), Relationship(source=Node(id='The Shawshank Redemption', type='Movie', properties={}), target=Node(id='William Sadler', type='Person', properties={}), type='HAS_STAR', properties={}), Relationship(source=Node(id='The Shawshank Redemption', type='Movie', properties={}), target=Node(id='Drama', type='Genre', properties={}), type='HAS_GENRE', properties={})]\n"
     ]
    }
   ],
   "source": [
    "from langchain_experimental.graph_transformers import LLMGraphTransformer\n",
    "\n",
    "llm_transformer = LLMGraphTransformer(llm=llm)\n",
    "from langchain_core.documents import Document\n",
    "\n",
    "documents = []\n",
    "\n",
    "for _, row in df.iterrows():\n",
    "    text = f\"Title: {row['Series_Title']}\\nDirector: {row['Director']}\\nStars: {row['Star1']}, {row['Star2']}, {row['Star3']}, {row['Star4']}\\nGenre: {row['Genre']}\\nOverview: {row['Overview']}\"\n",
    "    documents.append(Document(page_content=text))\n",
    "\n",
    "\n",
    "graph_documents = llm_transformer.convert_to_graph_documents(documents)\n",
    "print(f\"Nodes:{graph_documents[0].nodes}\")\n",
    "print(f\"Relationships:{graph_documents[0].relationships}\")"
   ]
  },
  {
   "cell_type": "code",
   "execution_count": 150,
   "metadata": {},
   "outputs": [
    {
     "name": "stdout",
     "output_type": "stream",
     "text": [
      "Database resetted successfully!\n"
     ]
    }
   ],
   "source": [
    "conn.reset_database()"
   ]
  },
  {
   "cell_type": "code",
   "execution_count": 161,
   "metadata": {},
   "outputs": [
    {
     "ename": "ValueError",
     "evalue": "Could not use APOC procedures. Please ensure the APOC plugin is installed in Neo4j and that 'apoc.meta.data()' is allowed in Neo4j configuration ",
     "output_type": "error",
     "traceback": [
      "\u001b[0;31m---------------------------------------------------------------------------\u001b[0m",
      "\u001b[0;31mClientError\u001b[0m                               Traceback (most recent call last)",
      "File \u001b[0;32m~/Documents/Documents - Cristian’s Laptop/GitHub/rag-knowledge-graph/venv/lib/python3.12/site-packages/langchain_community/graphs/neo4j_graph.py:393\u001b[0m, in \u001b[0;36mNeo4jGraph.__init__\u001b[0;34m(self, url, username, password, database, timeout, sanitize, refresh_schema, driver_config, enhanced_schema)\u001b[0m\n\u001b[1;32m    392\u001b[0m \u001b[38;5;28;01mtry\u001b[39;00m:\n\u001b[0;32m--> 393\u001b[0m     \u001b[38;5;28;43mself\u001b[39;49m\u001b[38;5;241;43m.\u001b[39;49m\u001b[43mrefresh_schema\u001b[49m\u001b[43m(\u001b[49m\u001b[43m)\u001b[49m\n\u001b[1;32m    394\u001b[0m \u001b[38;5;28;01mexcept\u001b[39;00m neo4j\u001b[38;5;241m.\u001b[39mexceptions\u001b[38;5;241m.\u001b[39mClientError \u001b[38;5;28;01mas\u001b[39;00m e:\n",
      "File \u001b[0;32m~/Documents/Documents - Cristian’s Laptop/GitHub/rag-knowledge-graph/venv/lib/python3.12/site-packages/langchain_community/graphs/neo4j_graph.py:475\u001b[0m, in \u001b[0;36mNeo4jGraph.refresh_schema\u001b[0;34m(self)\u001b[0m\n\u001b[1;32m    471\u001b[0m \u001b[38;5;28;01mfrom\u001b[39;00m \u001b[38;5;21;01mneo4j\u001b[39;00m\u001b[38;5;21;01m.\u001b[39;00m\u001b[38;5;21;01mexceptions\u001b[39;00m \u001b[38;5;28;01mimport\u001b[39;00m ClientError, CypherTypeError\n\u001b[1;32m    473\u001b[0m node_properties \u001b[38;5;241m=\u001b[39m [\n\u001b[1;32m    474\u001b[0m     el[\u001b[38;5;124m\"\u001b[39m\u001b[38;5;124moutput\u001b[39m\u001b[38;5;124m\"\u001b[39m]\n\u001b[0;32m--> 475\u001b[0m     \u001b[38;5;28;01mfor\u001b[39;00m el \u001b[38;5;129;01min\u001b[39;00m \u001b[38;5;28;43mself\u001b[39;49m\u001b[38;5;241;43m.\u001b[39;49m\u001b[43mquery\u001b[49m\u001b[43m(\u001b[49m\n\u001b[1;32m    476\u001b[0m \u001b[43m        \u001b[49m\u001b[43mnode_properties_query\u001b[49m\u001b[43m,\u001b[49m\n\u001b[1;32m    477\u001b[0m \u001b[43m        \u001b[49m\u001b[43mparams\u001b[49m\u001b[38;5;241;43m=\u001b[39;49m\u001b[43m{\u001b[49m\u001b[38;5;124;43m\"\u001b[39;49m\u001b[38;5;124;43mEXCLUDED_LABELS\u001b[39;49m\u001b[38;5;124;43m\"\u001b[39;49m\u001b[43m:\u001b[49m\u001b[43m \u001b[49m\u001b[43mEXCLUDED_LABELS\u001b[49m\u001b[43m \u001b[49m\u001b[38;5;241;43m+\u001b[39;49m\u001b[43m \u001b[49m\u001b[43m[\u001b[49m\u001b[43mBASE_ENTITY_LABEL\u001b[49m\u001b[43m]\u001b[49m\u001b[43m}\u001b[49m\u001b[43m,\u001b[49m\n\u001b[1;32m    478\u001b[0m \u001b[43m    \u001b[49m\u001b[43m)\u001b[49m\n\u001b[1;32m    479\u001b[0m ]\n\u001b[1;32m    480\u001b[0m rel_properties \u001b[38;5;241m=\u001b[39m [\n\u001b[1;32m    481\u001b[0m     el[\u001b[38;5;124m\"\u001b[39m\u001b[38;5;124moutput\u001b[39m\u001b[38;5;124m\"\u001b[39m]\n\u001b[1;32m    482\u001b[0m     \u001b[38;5;28;01mfor\u001b[39;00m el \u001b[38;5;129;01min\u001b[39;00m \u001b[38;5;28mself\u001b[39m\u001b[38;5;241m.\u001b[39mquery(\n\u001b[1;32m    483\u001b[0m         rel_properties_query, params\u001b[38;5;241m=\u001b[39m{\u001b[38;5;124m\"\u001b[39m\u001b[38;5;124mEXCLUDED_LABELS\u001b[39m\u001b[38;5;124m\"\u001b[39m: EXCLUDED_RELS}\n\u001b[1;32m    484\u001b[0m     )\n\u001b[1;32m    485\u001b[0m ]\n",
      "File \u001b[0;32m~/Documents/Documents - Cristian’s Laptop/GitHub/rag-knowledge-graph/venv/lib/python3.12/site-packages/langchain_community/graphs/neo4j_graph.py:431\u001b[0m, in \u001b[0;36mNeo4jGraph.query\u001b[0;34m(self, query, params)\u001b[0m\n\u001b[1;32m    430\u001b[0m \u001b[38;5;28;01mtry\u001b[39;00m:\n\u001b[0;32m--> 431\u001b[0m     data, _, _ \u001b[38;5;241m=\u001b[39m \u001b[38;5;28;43mself\u001b[39;49m\u001b[38;5;241;43m.\u001b[39;49m\u001b[43m_driver\u001b[49m\u001b[38;5;241;43m.\u001b[39;49m\u001b[43mexecute_query\u001b[49m\u001b[43m(\u001b[49m\n\u001b[1;32m    432\u001b[0m \u001b[43m        \u001b[49m\u001b[43mQuery\u001b[49m\u001b[43m(\u001b[49m\u001b[43mtext\u001b[49m\u001b[38;5;241;43m=\u001b[39;49m\u001b[43mquery\u001b[49m\u001b[43m,\u001b[49m\u001b[43m \u001b[49m\u001b[43mtimeout\u001b[49m\u001b[38;5;241;43m=\u001b[39;49m\u001b[38;5;28;43mself\u001b[39;49m\u001b[38;5;241;43m.\u001b[39;49m\u001b[43mtimeout\u001b[49m\u001b[43m)\u001b[49m\u001b[43m,\u001b[49m\n\u001b[1;32m    433\u001b[0m \u001b[43m        \u001b[49m\u001b[43mdatabase_\u001b[49m\u001b[38;5;241;43m=\u001b[39;49m\u001b[38;5;28;43mself\u001b[39;49m\u001b[38;5;241;43m.\u001b[39;49m\u001b[43m_database\u001b[49m\u001b[43m,\u001b[49m\n\u001b[1;32m    434\u001b[0m \u001b[43m        \u001b[49m\u001b[43mparameters_\u001b[49m\u001b[38;5;241;43m=\u001b[39;49m\u001b[43mparams\u001b[49m\u001b[43m,\u001b[49m\n\u001b[1;32m    435\u001b[0m \u001b[43m    \u001b[49m\u001b[43m)\u001b[49m\n\u001b[1;32m    436\u001b[0m     json_data \u001b[38;5;241m=\u001b[39m [r\u001b[38;5;241m.\u001b[39mdata() \u001b[38;5;28;01mfor\u001b[39;00m r \u001b[38;5;129;01min\u001b[39;00m data]\n",
      "File \u001b[0;32m~/Documents/Documents - Cristian’s Laptop/GitHub/rag-knowledge-graph/venv/lib/python3.12/site-packages/neo4j/_sync/driver.py:971\u001b[0m, in \u001b[0;36mDriver.execute_query\u001b[0;34m(self, query_, parameters_, routing_, database_, impersonated_user_, bookmark_manager_, auth_, result_transformer_, **kwargs)\u001b[0m\n\u001b[1;32m    970\u001b[0m \u001b[38;5;28;01mwith\u001b[39;00m session\u001b[38;5;241m.\u001b[39m_pipelined_begin:\n\u001b[0;32m--> 971\u001b[0m     \u001b[38;5;28;01mreturn\u001b[39;00m \u001b[43msession\u001b[49m\u001b[38;5;241;43m.\u001b[39;49m\u001b[43m_run_transaction\u001b[49m\u001b[43m(\u001b[49m\n\u001b[1;32m    972\u001b[0m \u001b[43m        \u001b[49m\u001b[43maccess_mode\u001b[49m\u001b[43m,\u001b[49m\n\u001b[1;32m    973\u001b[0m \u001b[43m        \u001b[49m\u001b[43mTelemetryAPI\u001b[49m\u001b[38;5;241;43m.\u001b[39;49m\u001b[43mDRIVER\u001b[49m\u001b[43m,\u001b[49m\n\u001b[1;32m    974\u001b[0m \u001b[43m        \u001b[49m\u001b[43mwork\u001b[49m\u001b[43m,\u001b[49m\n\u001b[1;32m    975\u001b[0m \u001b[43m        \u001b[49m\u001b[43m(\u001b[49m\u001b[43mquery_str\u001b[49m\u001b[43m,\u001b[49m\u001b[43m \u001b[49m\u001b[43mparameters\u001b[49m\u001b[43m,\u001b[49m\u001b[43m \u001b[49m\u001b[43mresult_transformer_\u001b[49m\u001b[43m)\u001b[49m\u001b[43m,\u001b[49m\n\u001b[1;32m    976\u001b[0m \u001b[43m        \u001b[49m\u001b[43m{\u001b[49m\u001b[43m}\u001b[49m\u001b[43m,\u001b[49m\n\u001b[1;32m    977\u001b[0m \u001b[43m    \u001b[49m\u001b[43m)\u001b[49m\n",
      "File \u001b[0;32m~/Documents/Documents - Cristian’s Laptop/GitHub/rag-knowledge-graph/venv/lib/python3.12/site-packages/neo4j/_sync/work/session.py:581\u001b[0m, in \u001b[0;36mSession._run_transaction\u001b[0;34m(self, access_mode, api, transaction_function, args, kwargs)\u001b[0m\n\u001b[1;32m    580\u001b[0m \u001b[38;5;28;01mtry\u001b[39;00m:\n\u001b[0;32m--> 581\u001b[0m     result \u001b[38;5;241m=\u001b[39m \u001b[43mtransaction_function\u001b[49m\u001b[43m(\u001b[49m\u001b[43mtx\u001b[49m\u001b[43m,\u001b[49m\u001b[43m \u001b[49m\u001b[38;5;241;43m*\u001b[39;49m\u001b[43margs\u001b[49m\u001b[43m,\u001b[49m\u001b[43m \u001b[49m\u001b[38;5;241;43m*\u001b[39;49m\u001b[38;5;241;43m*\u001b[39;49m\u001b[43mkwargs\u001b[49m\u001b[43m)\u001b[49m\n\u001b[1;32m    582\u001b[0m \u001b[38;5;28;01mexcept\u001b[39;00m asyncio\u001b[38;5;241m.\u001b[39mCancelledError:\n\u001b[1;32m    583\u001b[0m     \u001b[38;5;66;03m# if cancellation callback has not been called yet:\u001b[39;00m\n",
      "File \u001b[0;32m~/Documents/Documents - Cristian’s Laptop/GitHub/rag-knowledge-graph/venv/lib/python3.12/site-packages/neo4j/_work/query.py:144\u001b[0m, in \u001b[0;36munit_of_work.<locals>.wrapper.<locals>.wrapped\u001b[0;34m(*args, **kwargs)\u001b[0m\n\u001b[1;32m    143\u001b[0m \u001b[38;5;28;01mdef\u001b[39;00m \u001b[38;5;21mwrapped\u001b[39m(\u001b[38;5;241m*\u001b[39margs, \u001b[38;5;241m*\u001b[39m\u001b[38;5;241m*\u001b[39mkwargs):\n\u001b[0;32m--> 144\u001b[0m     \u001b[38;5;28;01mreturn\u001b[39;00m \u001b[43mf\u001b[49m\u001b[43m(\u001b[49m\u001b[38;5;241;43m*\u001b[39;49m\u001b[43margs\u001b[49m\u001b[43m,\u001b[49m\u001b[43m \u001b[49m\u001b[38;5;241;43m*\u001b[39;49m\u001b[38;5;241;43m*\u001b[39;49m\u001b[43mkwargs\u001b[49m\u001b[43m)\u001b[49m\n",
      "File \u001b[0;32m~/Documents/Documents - Cristian’s Laptop/GitHub/rag-knowledge-graph/venv/lib/python3.12/site-packages/neo4j/_sync/driver.py:1307\u001b[0m, in \u001b[0;36m_work\u001b[0;34m(tx, query, parameters, transformer)\u001b[0m\n\u001b[1;32m   1301\u001b[0m \u001b[38;5;28;01mdef\u001b[39;00m \u001b[38;5;21m_work\u001b[39m(\n\u001b[1;32m   1302\u001b[0m     tx: ManagedTransaction,\n\u001b[1;32m   1303\u001b[0m     query: te\u001b[38;5;241m.\u001b[39mLiteralString,\n\u001b[1;32m   1304\u001b[0m     parameters: \u001b[38;5;28mdict\u001b[39m[\u001b[38;5;28mstr\u001b[39m, t\u001b[38;5;241m.\u001b[39mAny],\n\u001b[1;32m   1305\u001b[0m     transformer: t\u001b[38;5;241m.\u001b[39mCallable[[Result], t\u001b[38;5;241m.\u001b[39mUnion[_T]],\n\u001b[1;32m   1306\u001b[0m ) \u001b[38;5;241m-\u001b[39m\u001b[38;5;241m>\u001b[39m _T:\n\u001b[0;32m-> 1307\u001b[0m     res \u001b[38;5;241m=\u001b[39m \u001b[43mtx\u001b[49m\u001b[38;5;241;43m.\u001b[39;49m\u001b[43mrun\u001b[49m\u001b[43m(\u001b[49m\u001b[43mquery\u001b[49m\u001b[43m,\u001b[49m\u001b[43m \u001b[49m\u001b[43mparameters\u001b[49m\u001b[43m)\u001b[49m\n\u001b[1;32m   1308\u001b[0m     \u001b[38;5;28;01mreturn\u001b[39;00m transformer(res)\n",
      "File \u001b[0;32m~/Documents/Documents - Cristian’s Laptop/GitHub/rag-knowledge-graph/venv/lib/python3.12/site-packages/neo4j/_sync/work/transaction.py:195\u001b[0m, in \u001b[0;36mTransactionBase.run\u001b[0;34m(self, query, parameters, **kwparameters)\u001b[0m\n\u001b[1;32m    194\u001b[0m parameters \u001b[38;5;241m=\u001b[39m \u001b[38;5;28mdict\u001b[39m(parameters \u001b[38;5;129;01mor\u001b[39;00m {}, \u001b[38;5;241m*\u001b[39m\u001b[38;5;241m*\u001b[39mkwparameters)\n\u001b[0;32m--> 195\u001b[0m \u001b[43mresult\u001b[49m\u001b[38;5;241;43m.\u001b[39;49m\u001b[43m_tx_ready_run\u001b[49m\u001b[43m(\u001b[49m\u001b[43mquery\u001b[49m\u001b[43m,\u001b[49m\u001b[43m \u001b[49m\u001b[43mparameters\u001b[49m\u001b[43m)\u001b[49m\n\u001b[1;32m    197\u001b[0m \u001b[38;5;28;01mreturn\u001b[39;00m result\n",
      "File \u001b[0;32m~/Documents/Documents - Cristian’s Laptop/GitHub/rag-knowledge-graph/venv/lib/python3.12/site-packages/neo4j/_sync/work/result.py:175\u001b[0m, in \u001b[0;36mResult._tx_ready_run\u001b[0;34m(self, query, parameters)\u001b[0m\n\u001b[1;32m    171\u001b[0m \u001b[38;5;28;01mdef\u001b[39;00m \u001b[38;5;21m_tx_ready_run\u001b[39m(\u001b[38;5;28mself\u001b[39m, query, parameters):\n\u001b[1;32m    172\u001b[0m     \u001b[38;5;66;03m# BEGIN+RUN does not carry any extra on the RUN message.\u001b[39;00m\n\u001b[1;32m    173\u001b[0m     \u001b[38;5;66;03m# BEGIN {extra}\u001b[39;00m\n\u001b[1;32m    174\u001b[0m     \u001b[38;5;66;03m# RUN \"query\" {parameters} {extra}\u001b[39;00m\n\u001b[0;32m--> 175\u001b[0m     \u001b[38;5;28;43mself\u001b[39;49m\u001b[38;5;241;43m.\u001b[39;49m\u001b[43m_run\u001b[49m\u001b[43m(\u001b[49m\u001b[43mquery\u001b[49m\u001b[43m,\u001b[49m\u001b[43m \u001b[49m\u001b[43mparameters\u001b[49m\u001b[43m,\u001b[49m\u001b[43m \u001b[49m\u001b[38;5;28;43;01mNone\u001b[39;49;00m\u001b[43m,\u001b[49m\u001b[43m \u001b[49m\u001b[38;5;28;43;01mNone\u001b[39;49;00m\u001b[43m,\u001b[49m\u001b[43m \u001b[49m\u001b[38;5;28;43;01mNone\u001b[39;49;00m\u001b[43m,\u001b[49m\u001b[43m \u001b[49m\u001b[38;5;28;43;01mNone\u001b[39;49;00m\u001b[43m,\u001b[49m\u001b[43m \u001b[49m\u001b[38;5;28;43;01mNone\u001b[39;49;00m\u001b[43m,\u001b[49m\u001b[43m \u001b[49m\u001b[38;5;28;43;01mNone\u001b[39;49;00m\u001b[43m)\u001b[49m\n",
      "File \u001b[0;32m~/Documents/Documents - Cristian’s Laptop/GitHub/rag-knowledge-graph/venv/lib/python3.12/site-packages/neo4j/_sync/work/result.py:231\u001b[0m, in \u001b[0;36mResult._run\u001b[0;34m(self, query, parameters, db, imp_user, access_mode, bookmarks, notifications_min_severity, notifications_disabled_classifications)\u001b[0m\n\u001b[1;32m    230\u001b[0m \u001b[38;5;28mself\u001b[39m\u001b[38;5;241m.\u001b[39m_connection\u001b[38;5;241m.\u001b[39msend_all()\n\u001b[0;32m--> 231\u001b[0m \u001b[38;5;28;43mself\u001b[39;49m\u001b[38;5;241;43m.\u001b[39;49m\u001b[43m_attach\u001b[49m\u001b[43m(\u001b[49m\u001b[43m)\u001b[49m\n",
      "File \u001b[0;32m~/Documents/Documents - Cristian’s Laptop/GitHub/rag-knowledge-graph/venv/lib/python3.12/site-packages/neo4j/_sync/work/result.py:425\u001b[0m, in \u001b[0;36mResult._attach\u001b[0;34m(self)\u001b[0m\n\u001b[1;32m    424\u001b[0m \u001b[38;5;28;01mwhile\u001b[39;00m \u001b[38;5;28mself\u001b[39m\u001b[38;5;241m.\u001b[39m_attached \u001b[38;5;129;01mis\u001b[39;00m \u001b[38;5;28;01mFalse\u001b[39;00m:\n\u001b[0;32m--> 425\u001b[0m     \u001b[38;5;28;43mself\u001b[39;49m\u001b[38;5;241;43m.\u001b[39;49m\u001b[43m_connection\u001b[49m\u001b[38;5;241;43m.\u001b[39;49m\u001b[43mfetch_message\u001b[49m\u001b[43m(\u001b[49m\u001b[43m)\u001b[49m\n",
      "File \u001b[0;32m~/Documents/Documents - Cristian’s Laptop/GitHub/rag-knowledge-graph/venv/lib/python3.12/site-packages/neo4j/_sync/io/_common.py:184\u001b[0m, in \u001b[0;36mConnectionErrorHandler.__getattr__.<locals>.outer.<locals>.inner\u001b[0;34m(*args, **kwargs)\u001b[0m\n\u001b[1;32m    183\u001b[0m \u001b[38;5;28;01mtry\u001b[39;00m:\n\u001b[0;32m--> 184\u001b[0m     \u001b[43mfunc\u001b[49m\u001b[43m(\u001b[49m\u001b[38;5;241;43m*\u001b[39;49m\u001b[43margs\u001b[49m\u001b[43m,\u001b[49m\u001b[43m \u001b[49m\u001b[38;5;241;43m*\u001b[39;49m\u001b[38;5;241;43m*\u001b[39;49m\u001b[43mkwargs\u001b[49m\u001b[43m)\u001b[49m\n\u001b[1;32m    185\u001b[0m \u001b[38;5;28;01mexcept\u001b[39;00m (Neo4jError, ServiceUnavailable, SessionExpired) \u001b[38;5;28;01mas\u001b[39;00m exc:\n",
      "File \u001b[0;32m~/Documents/Documents - Cristian’s Laptop/GitHub/rag-knowledge-graph/venv/lib/python3.12/site-packages/neo4j/_sync/io/_bolt.py:994\u001b[0m, in \u001b[0;36mBolt.fetch_message\u001b[0;34m(self)\u001b[0m\n\u001b[1;32m    991\u001b[0m tag, fields \u001b[38;5;241m=\u001b[39m \u001b[38;5;28mself\u001b[39m\u001b[38;5;241m.\u001b[39minbox\u001b[38;5;241m.\u001b[39mpop(\n\u001b[1;32m    992\u001b[0m     hydration_hooks\u001b[38;5;241m=\u001b[39m\u001b[38;5;28mself\u001b[39m\u001b[38;5;241m.\u001b[39mresponses[\u001b[38;5;241m0\u001b[39m]\u001b[38;5;241m.\u001b[39mhydration_hooks\n\u001b[1;32m    993\u001b[0m )\n\u001b[0;32m--> 994\u001b[0m res \u001b[38;5;241m=\u001b[39m \u001b[38;5;28;43mself\u001b[39;49m\u001b[38;5;241;43m.\u001b[39;49m\u001b[43m_process_message\u001b[49m\u001b[43m(\u001b[49m\u001b[43mtag\u001b[49m\u001b[43m,\u001b[49m\u001b[43m \u001b[49m\u001b[43mfields\u001b[49m\u001b[43m)\u001b[49m\n\u001b[1;32m    995\u001b[0m \u001b[38;5;28mself\u001b[39m\u001b[38;5;241m.\u001b[39midle_since \u001b[38;5;241m=\u001b[39m monotonic()\n",
      "File \u001b[0;32m~/Documents/Documents - Cristian’s Laptop/GitHub/rag-knowledge-graph/venv/lib/python3.12/site-packages/neo4j/_sync/io/_bolt5.py:496\u001b[0m, in \u001b[0;36mBolt5x0._process_message\u001b[0;34m(self, tag, fields)\u001b[0m\n\u001b[1;32m    495\u001b[0m \u001b[38;5;28;01mtry\u001b[39;00m:\n\u001b[0;32m--> 496\u001b[0m     \u001b[43mresponse\u001b[49m\u001b[38;5;241;43m.\u001b[39;49m\u001b[43mon_failure\u001b[49m\u001b[43m(\u001b[49m\u001b[43msummary_metadata\u001b[49m\u001b[43m \u001b[49m\u001b[38;5;129;43;01mor\u001b[39;49;00m\u001b[43m \u001b[49m\u001b[43m{\u001b[49m\u001b[43m}\u001b[49m\u001b[43m)\u001b[49m\n\u001b[1;32m    497\u001b[0m \u001b[38;5;28;01mexcept\u001b[39;00m (ServiceUnavailable, DatabaseUnavailable):\n",
      "File \u001b[0;32m~/Documents/Documents - Cristian’s Laptop/GitHub/rag-knowledge-graph/venv/lib/python3.12/site-packages/neo4j/_sync/io/_common.py:254\u001b[0m, in \u001b[0;36mResponse.on_failure\u001b[0;34m(self, metadata)\u001b[0m\n\u001b[1;32m    253\u001b[0m Util\u001b[38;5;241m.\u001b[39mcallback(handler)\n\u001b[0;32m--> 254\u001b[0m \u001b[38;5;28;01mraise\u001b[39;00m \u001b[38;5;28mself\u001b[39m\u001b[38;5;241m.\u001b[39m_hydrate_error(metadata)\n",
      "\u001b[0;31mClientError\u001b[0m: {code: Neo.ClientError.Procedure.ProcedureNotFound} {message: There is no procedure with the name `apoc.meta.data` registered for this database instance. Please ensure you've spelled the procedure name correctly and that the procedure is properly deployed.}",
      "\nDuring handling of the above exception, another exception occurred:\n",
      "\u001b[0;31mValueError\u001b[0m                                Traceback (most recent call last)",
      "Cell \u001b[0;32mIn[161], line 5\u001b[0m\n\u001b[1;32m      3\u001b[0m os\u001b[38;5;241m.\u001b[39menviron[\u001b[38;5;124m\"\u001b[39m\u001b[38;5;124mNEO4J_USERNAME\u001b[39m\u001b[38;5;124m\"\u001b[39m] \u001b[38;5;241m=\u001b[39m \u001b[38;5;124m\"\u001b[39m\u001b[38;5;124mneo4j\u001b[39m\u001b[38;5;124m\"\u001b[39m\n\u001b[1;32m      4\u001b[0m os\u001b[38;5;241m.\u001b[39menviron[\u001b[38;5;124m\"\u001b[39m\u001b[38;5;124mNEO4J_PASSWORD\u001b[39m\u001b[38;5;124m\"\u001b[39m] \u001b[38;5;241m=\u001b[39m \u001b[38;5;124m\"\u001b[39m\u001b[38;5;124milovemovies\u001b[39m\u001b[38;5;124m\"\u001b[39m\n\u001b[0;32m----> 5\u001b[0m graph \u001b[38;5;241m=\u001b[39m \u001b[43mNeo4jGraph\u001b[49m\u001b[43m(\u001b[49m\u001b[43m)\u001b[49m\n\u001b[1;32m      6\u001b[0m graph\u001b[38;5;241m.\u001b[39madd_graph_documents(graph_documents)\n",
      "File \u001b[0;32m~/Documents/Documents - Cristian’s Laptop/GitHub/rag-knowledge-graph/venv/lib/python3.12/site-packages/langchain_community/graphs/neo4j_graph.py:396\u001b[0m, in \u001b[0;36mNeo4jGraph.__init__\u001b[0;34m(self, url, username, password, database, timeout, sanitize, refresh_schema, driver_config, enhanced_schema)\u001b[0m\n\u001b[1;32m    394\u001b[0m \u001b[38;5;28;01mexcept\u001b[39;00m neo4j\u001b[38;5;241m.\u001b[39mexceptions\u001b[38;5;241m.\u001b[39mClientError \u001b[38;5;28;01mas\u001b[39;00m e:\n\u001b[1;32m    395\u001b[0m     \u001b[38;5;28;01mif\u001b[39;00m e\u001b[38;5;241m.\u001b[39mcode \u001b[38;5;241m==\u001b[39m \u001b[38;5;124m\"\u001b[39m\u001b[38;5;124mNeo.ClientError.Procedure.ProcedureNotFound\u001b[39m\u001b[38;5;124m\"\u001b[39m:\n\u001b[0;32m--> 396\u001b[0m         \u001b[38;5;28;01mraise\u001b[39;00m \u001b[38;5;167;01mValueError\u001b[39;00m(\n\u001b[1;32m    397\u001b[0m             \u001b[38;5;124m\"\u001b[39m\u001b[38;5;124mCould not use APOC procedures. \u001b[39m\u001b[38;5;124m\"\u001b[39m\n\u001b[1;32m    398\u001b[0m             \u001b[38;5;124m\"\u001b[39m\u001b[38;5;124mPlease ensure the APOC plugin is installed in Neo4j and that \u001b[39m\u001b[38;5;124m\"\u001b[39m\n\u001b[1;32m    399\u001b[0m             \u001b[38;5;124m\"\u001b[39m\u001b[38;5;124m'\u001b[39m\u001b[38;5;124mapoc.meta.data()\u001b[39m\u001b[38;5;124m'\u001b[39m\u001b[38;5;124m is allowed in Neo4j configuration \u001b[39m\u001b[38;5;124m\"\u001b[39m\n\u001b[1;32m    400\u001b[0m         )\n\u001b[1;32m    401\u001b[0m     \u001b[38;5;28;01mraise\u001b[39;00m e\n",
      "\u001b[0;31mValueError\u001b[0m: Could not use APOC procedures. Please ensure the APOC plugin is installed in Neo4j and that 'apoc.meta.data()' is allowed in Neo4j configuration "
     ]
    }
   ],
   "source": [
    "from langchain_community.graphs import Neo4jGraph\n",
    "os.environ[\"NEO4J_URI\"] = \"bolt://localhost:7687\"\n",
    "os.environ[\"NEO4J_USERNAME\"] = \"neo4j\"\n",
    "os.environ[\"NEO4J_PASSWORD\"] = \"ilovemovies\"\n",
    "graph = Neo4jGraph()\n",
    "graph.add_graph_documents(graph_documents)"
   ]
  },
  {
   "cell_type": "code",
   "execution_count": null,
   "metadata": {},
   "outputs": [],
   "source": []
  }
 ],
 "metadata": {
  "kernelspec": {
   "display_name": "venv",
   "language": "python",
   "name": "python3"
  },
  "language_info": {
   "codemirror_mode": {
    "name": "ipython",
    "version": 3
   },
   "file_extension": ".py",
   "mimetype": "text/x-python",
   "name": "python",
   "nbconvert_exporter": "python",
   "pygments_lexer": "ipython3",
   "version": "3.12.1"
  }
 },
 "nbformat": 4,
 "nbformat_minor": 2
}
