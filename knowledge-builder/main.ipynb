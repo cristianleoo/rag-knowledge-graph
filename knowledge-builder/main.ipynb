{
 "cells": [
  {
   "cell_type": "code",
   "execution_count": 1,
   "metadata": {},
   "outputs": [
    {
     "name": "stderr",
     "output_type": "stream",
     "text": [
      "/Users/cristianleo/Documents/Documents - Cristian’s Laptop/GitHub/rag-knowledge-graph/venv/lib/python3.12/site-packages/tqdm/auto.py:21: TqdmWarning: IProgress not found. Please update jupyter and ipywidgets. See https://ipywidgets.readthedocs.io/en/stable/user_install.html\n",
      "  from .autonotebook import tqdm as notebook_tqdm\n"
     ]
    }
   ],
   "source": [
    "import kagglehub\n",
    "from langchain.chains import LLMChain\n",
    "from langchain.prompts import PromptTemplate\n",
    "import os\n",
    "import pandas as pd\n",
    "import ast\n",
    "from neo4j import GraphDatabase\n",
    "\n",
    "from dotenv import load_dotenv\n",
    "load_dotenv()\n",
    "\n",
    "from langchain_google_genai import GoogleGenerativeAI\n",
    "api_key = os.getenv(\"GOOGLE_API_KEY\")"
   ]
  },
  {
   "cell_type": "code",
   "execution_count": 2,
   "metadata": {},
   "outputs": [
    {
     "data": {
      "text/html": [
       "<div>\n",
       "<style scoped>\n",
       "    .dataframe tbody tr th:only-of-type {\n",
       "        vertical-align: middle;\n",
       "    }\n",
       "\n",
       "    .dataframe tbody tr th {\n",
       "        vertical-align: top;\n",
       "    }\n",
       "\n",
       "    .dataframe thead th {\n",
       "        text-align: right;\n",
       "    }\n",
       "</style>\n",
       "<table border=\"1\" class=\"dataframe\">\n",
       "  <thead>\n",
       "    <tr style=\"text-align: right;\">\n",
       "      <th></th>\n",
       "      <th>Poster_Link</th>\n",
       "      <th>Series_Title</th>\n",
       "      <th>Released_Year</th>\n",
       "      <th>Certificate</th>\n",
       "      <th>Runtime</th>\n",
       "      <th>Genre</th>\n",
       "      <th>IMDB_Rating</th>\n",
       "      <th>Overview</th>\n",
       "      <th>Meta_score</th>\n",
       "      <th>Director</th>\n",
       "      <th>Star1</th>\n",
       "      <th>Star2</th>\n",
       "      <th>Star3</th>\n",
       "      <th>Star4</th>\n",
       "      <th>No_of_Votes</th>\n",
       "      <th>Gross</th>\n",
       "    </tr>\n",
       "  </thead>\n",
       "  <tbody>\n",
       "    <tr>\n",
       "      <th>0</th>\n",
       "      <td>https://m.media-amazon.com/images/M/MV5BMDFkYT...</td>\n",
       "      <td>The Shawshank Redemption</td>\n",
       "      <td>1994</td>\n",
       "      <td>A</td>\n",
       "      <td>142 min</td>\n",
       "      <td>Drama</td>\n",
       "      <td>9.3</td>\n",
       "      <td>Two imprisoned men bond over a number of years...</td>\n",
       "      <td>80.0</td>\n",
       "      <td>Frank Darabont</td>\n",
       "      <td>Tim Robbins</td>\n",
       "      <td>Morgan Freeman</td>\n",
       "      <td>Bob Gunton</td>\n",
       "      <td>William Sadler</td>\n",
       "      <td>2343110</td>\n",
       "      <td>28,341,469</td>\n",
       "    </tr>\n",
       "    <tr>\n",
       "      <th>1</th>\n",
       "      <td>https://m.media-amazon.com/images/M/MV5BM2MyNj...</td>\n",
       "      <td>The Godfather</td>\n",
       "      <td>1972</td>\n",
       "      <td>A</td>\n",
       "      <td>175 min</td>\n",
       "      <td>Crime, Drama</td>\n",
       "      <td>9.2</td>\n",
       "      <td>An organized crime dynasty's aging patriarch t...</td>\n",
       "      <td>100.0</td>\n",
       "      <td>Francis Ford Coppola</td>\n",
       "      <td>Marlon Brando</td>\n",
       "      <td>Al Pacino</td>\n",
       "      <td>James Caan</td>\n",
       "      <td>Diane Keaton</td>\n",
       "      <td>1620367</td>\n",
       "      <td>134,966,411</td>\n",
       "    </tr>\n",
       "    <tr>\n",
       "      <th>2</th>\n",
       "      <td>https://m.media-amazon.com/images/M/MV5BMTMxNT...</td>\n",
       "      <td>The Dark Knight</td>\n",
       "      <td>2008</td>\n",
       "      <td>UA</td>\n",
       "      <td>152 min</td>\n",
       "      <td>Action, Crime, Drama</td>\n",
       "      <td>9.0</td>\n",
       "      <td>When the menace known as the Joker wreaks havo...</td>\n",
       "      <td>84.0</td>\n",
       "      <td>Christopher Nolan</td>\n",
       "      <td>Christian Bale</td>\n",
       "      <td>Heath Ledger</td>\n",
       "      <td>Aaron Eckhart</td>\n",
       "      <td>Michael Caine</td>\n",
       "      <td>2303232</td>\n",
       "      <td>534,858,444</td>\n",
       "    </tr>\n",
       "    <tr>\n",
       "      <th>3</th>\n",
       "      <td>https://m.media-amazon.com/images/M/MV5BMWMwMG...</td>\n",
       "      <td>The Godfather: Part II</td>\n",
       "      <td>1974</td>\n",
       "      <td>A</td>\n",
       "      <td>202 min</td>\n",
       "      <td>Crime, Drama</td>\n",
       "      <td>9.0</td>\n",
       "      <td>The early life and career of Vito Corleone in ...</td>\n",
       "      <td>90.0</td>\n",
       "      <td>Francis Ford Coppola</td>\n",
       "      <td>Al Pacino</td>\n",
       "      <td>Robert De Niro</td>\n",
       "      <td>Robert Duvall</td>\n",
       "      <td>Diane Keaton</td>\n",
       "      <td>1129952</td>\n",
       "      <td>57,300,000</td>\n",
       "    </tr>\n",
       "    <tr>\n",
       "      <th>4</th>\n",
       "      <td>https://m.media-amazon.com/images/M/MV5BMWU4N2...</td>\n",
       "      <td>12 Angry Men</td>\n",
       "      <td>1957</td>\n",
       "      <td>U</td>\n",
       "      <td>96 min</td>\n",
       "      <td>Crime, Drama</td>\n",
       "      <td>9.0</td>\n",
       "      <td>A jury holdout attempts to prevent a miscarria...</td>\n",
       "      <td>96.0</td>\n",
       "      <td>Sidney Lumet</td>\n",
       "      <td>Henry Fonda</td>\n",
       "      <td>Lee J. Cobb</td>\n",
       "      <td>Martin Balsam</td>\n",
       "      <td>John Fiedler</td>\n",
       "      <td>689845</td>\n",
       "      <td>4,360,000</td>\n",
       "    </tr>\n",
       "  </tbody>\n",
       "</table>\n",
       "</div>"
      ],
      "text/plain": [
       "                                         Poster_Link  \\\n",
       "0  https://m.media-amazon.com/images/M/MV5BMDFkYT...   \n",
       "1  https://m.media-amazon.com/images/M/MV5BM2MyNj...   \n",
       "2  https://m.media-amazon.com/images/M/MV5BMTMxNT...   \n",
       "3  https://m.media-amazon.com/images/M/MV5BMWMwMG...   \n",
       "4  https://m.media-amazon.com/images/M/MV5BMWU4N2...   \n",
       "\n",
       "               Series_Title Released_Year Certificate  Runtime  \\\n",
       "0  The Shawshank Redemption          1994           A  142 min   \n",
       "1             The Godfather          1972           A  175 min   \n",
       "2           The Dark Knight          2008          UA  152 min   \n",
       "3    The Godfather: Part II          1974           A  202 min   \n",
       "4              12 Angry Men          1957           U   96 min   \n",
       "\n",
       "                  Genre  IMDB_Rating  \\\n",
       "0                 Drama          9.3   \n",
       "1          Crime, Drama          9.2   \n",
       "2  Action, Crime, Drama          9.0   \n",
       "3          Crime, Drama          9.0   \n",
       "4          Crime, Drama          9.0   \n",
       "\n",
       "                                            Overview  Meta_score  \\\n",
       "0  Two imprisoned men bond over a number of years...        80.0   \n",
       "1  An organized crime dynasty's aging patriarch t...       100.0   \n",
       "2  When the menace known as the Joker wreaks havo...        84.0   \n",
       "3  The early life and career of Vito Corleone in ...        90.0   \n",
       "4  A jury holdout attempts to prevent a miscarria...        96.0   \n",
       "\n",
       "               Director           Star1           Star2          Star3  \\\n",
       "0        Frank Darabont     Tim Robbins  Morgan Freeman     Bob Gunton   \n",
       "1  Francis Ford Coppola   Marlon Brando       Al Pacino     James Caan   \n",
       "2     Christopher Nolan  Christian Bale    Heath Ledger  Aaron Eckhart   \n",
       "3  Francis Ford Coppola       Al Pacino  Robert De Niro  Robert Duvall   \n",
       "4          Sidney Lumet     Henry Fonda     Lee J. Cobb  Martin Balsam   \n",
       "\n",
       "            Star4  No_of_Votes        Gross  \n",
       "0  William Sadler      2343110   28,341,469  \n",
       "1    Diane Keaton      1620367  134,966,411  \n",
       "2   Michael Caine      2303232  534,858,444  \n",
       "3    Diane Keaton      1129952   57,300,000  \n",
       "4    John Fiedler       689845    4,360,000  "
      ]
     },
     "execution_count": 2,
     "metadata": {},
     "output_type": "execute_result"
    }
   ],
   "source": [
    "movies = pd.read_csv('data/imdb_top_1000.csv').head(10)\n",
    "\n",
    "movies.head()"
   ]
  },
  {
   "cell_type": "code",
   "execution_count": 3,
   "metadata": {},
   "outputs": [],
   "source": [
    "# Set up Neo4j connection\n",
    "class Neo4jConnection:\n",
    "    def __init__(self, uri, user, password):\n",
    "        self.driver = GraphDatabase.driver(uri, auth=(user, password))\n",
    "\n",
    "    def close(self):\n",
    "        self.driver.close()\n",
    "        print(\"Connection closed\")\n",
    "\n",
    "    def reset_database(self):\n",
    "        with self.driver.session() as session:\n",
    "            session.run(\"MATCH (n) DETACH DELETE n\")\n",
    "        print(\"Database resetted successfully!\")\n",
    "\n",
    "    def add_document(self, documents: list):\n",
    "        self.driver.add_graph_documents(documents)\n",
    "\n",
    "    def execute_query(self, query, parameters=None):\n",
    "        with self.driver.session() as session:\n",
    "            result = session.run(query, parameters or {})\n",
    "            return [record for record in result]\n",
    "\n",
    "# Connect to Neo4j\n",
    "uri = \"bolt://localhost:7687\"\n",
    "user = \"neo4j\"\n",
    "password = \"ilovemovies\"\n",
    "conn = Neo4jConnection(uri, user, password)"
   ]
  },
  {
   "cell_type": "code",
   "execution_count": 4,
   "metadata": {},
   "outputs": [
    {
     "name": "stdout",
     "output_type": "stream",
     "text": [
      "Database resetted successfully!\n"
     ]
    }
   ],
   "source": [
    "conn.reset_database()"
   ]
  },
  {
   "cell_type": "markdown",
   "metadata": {},
   "source": [
    "# Manual Upload"
   ]
  },
  {
   "cell_type": "code",
   "execution_count": 5,
   "metadata": {},
   "outputs": [],
   "source": [
    "# Function to Load DataFrame into Neo4j\n",
    "def load_movies_to_neo4j(movies_df, connection):\n",
    "    for _, row in movies_df.iterrows():\n",
    "        # Create Movie Node\n",
    "        connection.execute_query( \n",
    "            \"\"\"\n",
    "            MERGE (movie:Movie {title: $title})\n",
    "            SET movie.year = $year,\n",
    "                movie.rating = $rating,\n",
    "                movie.genre = $genre,\n",
    "                movie.runtime = $runtime,\n",
    "                movie.overview = $overview;\n",
    "            \"\"\",\n",
    "            parameters={\n",
    "                \"title\": row[\"Series_Title\"],\n",
    "                \"year\": int(row[\"Released_Year\"]),\n",
    "                \"rating\": float(row[\"IMDB_Rating\"]),\n",
    "                \"genre\": row[\"Genre\"],\n",
    "                \"runtime\": row[\"Runtime\"],\n",
    "                \"overview\": row[\"Overview\"],\n",
    "            },\n",
    "        )\n",
    "\n",
    "        # Create Director Node and Relationship\n",
    "        connection.execute_query(\n",
    "            \"\"\"\n",
    "            MERGE (director:Director {name: $name})\n",
    "            MERGE (movie:Movie {title: $title})\n",
    "            MERGE (director)-[:DIRECTED]->(movie);\n",
    "            \"\"\",\n",
    "            parameters={\n",
    "                \"name\": row[\"Director\"],\n",
    "                \"title\": row[\"Series_Title\"],\n",
    "            },\n",
    "        )\n",
    "\n",
    "        # Create Actor Nodes and Relationships\n",
    "        for actor in [row[\"Star1\"], row[\"Star2\"], row[\"Star3\"], row[\"Star4\"]]:\n",
    "            connection.execute_query(\n",
    "                \"\"\"\n",
    "                MERGE (actor:Actor {name: $name})\n",
    "                MERGE (movie:Movie {title: $title})\n",
    "                MERGE (actor)-[:ACTED_IN]->(movie);\n",
    "                \"\"\",\n",
    "                parameters={\n",
    "                    \"name\": actor,\n",
    "                    \"title\": row[\"Series_Title\"],\n",
    "                },\n",
    "            )\n",
    "\n",
    "# Load DataFrame to Neo4j\n",
    "load_movies_to_neo4j(movies, conn)"
   ]
  },
  {
   "cell_type": "code",
   "execution_count": 7,
   "metadata": {},
   "outputs": [
    {
     "data": {
      "text/plain": [
       "[<Record m.title='The Shawshank Redemption' a.name='William Sadler'>,\n",
       " <Record m.title='The Shawshank Redemption' a.name='Bob Gunton'>,\n",
       " <Record m.title='The Shawshank Redemption' a.name='Morgan Freeman'>,\n",
       " <Record m.title='The Shawshank Redemption' a.name='Tim Robbins'>,\n",
       " <Record m.title='The Godfather' a.name='Diane Keaton'>,\n",
       " <Record m.title='The Godfather' a.name='James Caan'>,\n",
       " <Record m.title='The Godfather' a.name='Al Pacino'>,\n",
       " <Record m.title='The Godfather' a.name='Marlon Brando'>,\n",
       " <Record m.title='The Dark Knight' a.name='Michael Caine'>,\n",
       " <Record m.title='The Dark Knight' a.name='Aaron Eckhart'>,\n",
       " <Record m.title='The Dark Knight' a.name='Heath Ledger'>,\n",
       " <Record m.title='The Dark Knight' a.name='Christian Bale'>,\n",
       " <Record m.title='The Godfather: Part II' a.name='Diane Keaton'>,\n",
       " <Record m.title='The Godfather: Part II' a.name='Robert Duvall'>,\n",
       " <Record m.title='The Godfather: Part II' a.name='Robert De Niro'>,\n",
       " <Record m.title='The Godfather: Part II' a.name='Al Pacino'>,\n",
       " <Record m.title='12 Angry Men' a.name='John Fiedler'>,\n",
       " <Record m.title='12 Angry Men' a.name='Martin Balsam'>,\n",
       " <Record m.title='12 Angry Men' a.name='Lee J. Cobb'>,\n",
       " <Record m.title='12 Angry Men' a.name='Henry Fonda'>,\n",
       " <Record m.title='The Lord of the Rings: The Return of the King' a.name='Orlando Bloom'>,\n",
       " <Record m.title='The Lord of the Rings: The Return of the King' a.name='Ian McKellen'>,\n",
       " <Record m.title='The Lord of the Rings: The Return of the King' a.name='Viggo Mortensen'>,\n",
       " <Record m.title='The Lord of the Rings: The Return of the King' a.name='Elijah Wood'>,\n",
       " <Record m.title='Pulp Fiction' a.name='Bruce Willis'>,\n",
       " <Record m.title='Pulp Fiction' a.name='Samuel L. Jackson'>,\n",
       " <Record m.title='Pulp Fiction' a.name='Uma Thurman'>,\n",
       " <Record m.title='Pulp Fiction' a.name='John Travolta'>,\n",
       " <Record m.title=\"Schindler's List\" a.name='Caroline Goodall'>,\n",
       " <Record m.title=\"Schindler's List\" a.name='Ben Kingsley'>,\n",
       " <Record m.title=\"Schindler's List\" a.name='Ralph Fiennes'>,\n",
       " <Record m.title=\"Schindler's List\" a.name='Liam Neeson'>,\n",
       " <Record m.title='Inception' a.name='Ken Watanabe'>,\n",
       " <Record m.title='Inception' a.name='Elliot Page'>,\n",
       " <Record m.title='Inception' a.name='Joseph Gordon-Levitt'>,\n",
       " <Record m.title='Inception' a.name='Leonardo DiCaprio'>,\n",
       " <Record m.title='Fight Club' a.name='Zach Grenier'>,\n",
       " <Record m.title='Fight Club' a.name='Meat Loaf'>,\n",
       " <Record m.title='Fight Club' a.name='Edward Norton'>,\n",
       " <Record m.title='Fight Club' a.name='Brad Pitt'>]"
      ]
     },
     "execution_count": 7,
     "metadata": {},
     "output_type": "execute_result"
    }
   ],
   "source": [
    "query = \"\"\"\n",
    "MATCH (m:Movie)-[:ACTED_IN]-(a:Actor)\n",
    "RETURN m.title, a.name;\n",
    "\"\"\"\n",
    "conn.execute_query(query)"
   ]
  },
  {
   "cell_type": "code",
   "execution_count": null,
   "metadata": {},
   "outputs": [],
   "source": [
    "conn.reset_database()"
   ]
  },
  {
   "cell_type": "code",
   "execution_count": 8,
   "metadata": {},
   "outputs": [
    {
     "name": "stdout",
     "output_type": "stream",
     "text": [
      "Poster_Link: https://m.media-amazon.com/images/M/MV5BMDFkYTc0MGEtZmNhMC00ZDIzLWFmNTEtODM1ZmRlYWMwMWFmXkEyXkFqcGdeQXVyMTMxODk2OTU@._V1_UX67_CR0,0,67,98_AL_.jpg, https://m.media-amazon.com/images/M/MV5BM2MyNjYxNmUtYTAwNi00MTYxLWJmNWYtYzZlODY3ZTk3OTFlXkEyXkFqcGdeQXVyNzkwMjQ5NzM@._V1_UY98_CR1,0,67,98_AL_.jpg, https://m.media-amazon.com/images/M/MV5BMTMxNTMwODM0NF5BMl5BanBnXkFtZTcwODAyMTk2Mw@@._V1_UX67_CR0,0,67,98_AL_.jpg...\n",
      "Series_Title: The Shawshank Redemption, The Godfather, The Dark Knight...\n",
      "Released_Year: 1994, 1972, 2008...\n",
      "Certificate: A, UA, U...\n",
      "Runtime: 142 min, 175 min, 152 min...\n",
      "Genre: Drama, Crime, Drama, Action, Crime, Drama...\n",
      "IMDB_Rating: 9.3, 9.2, 9.0...\n",
      "Overview: Two imprisoned men bond over a number of years, finding solace and eventual redemption through acts of common decency., An organized crime dynasty's aging patriarch transfers control of his clandestine empire to his reluctant son., When the menace known as the Joker wreaks havoc and chaos on the people of Gotham, Batman must accept one of the greatest psychological and physical tests of his ability to fight injustice....\n",
      "Meta_score: 80.0, 100.0, 84.0...\n",
      "Director: Frank Darabont, Francis Ford Coppola, Christopher Nolan...\n",
      "Star1: Tim Robbins, Marlon Brando, Christian Bale...\n",
      "Star2: Morgan Freeman, Al Pacino, Heath Ledger...\n",
      "Star3: Bob Gunton, James Caan, Aaron Eckhart...\n",
      "Star4: William Sadler, Diane Keaton, Michael Caine...\n",
      "No_of_Votes: 2343110, 1620367, 2303232...\n",
      "Gross: 28,341,469, 134,966,411, 534,858,444...\n"
     ]
    }
   ],
   "source": [
    "# Initialize Google Generative AI\n",
    "llm = GoogleGenerativeAI(model=\"gemini-1.5-flash\", google_api_key=api_key)\n",
    "\n",
    "df = movies.copy()\n",
    "\n",
    "# Step 1: Define Node Labels and Properties\n",
    "node_structure = \"\\n\".join(\n",
    "    [f\"{col}: {', '.join(map(str, df[col].unique()[:3]))}...\" for col in df.columns]\n",
    ")\n",
    "\n",
    "print(node_structure)"
   ]
  },
  {
   "cell_type": "code",
   "execution_count": 9,
   "metadata": {},
   "outputs": [
    {
     "name": "stderr",
     "output_type": "stream",
     "text": [
      "/var/folders/5j/l7cwj9sd0c1gqp3xyv7290sm0000gn/T/ipykernel_87605/3993875937.py:23: LangChainDeprecationWarning: The class `LLMChain` was deprecated in LangChain 0.1.17 and will be removed in 1.0. Use :meth:`~RunnableSequence, e.g., `prompt | llm`` instead.\n",
      "  node_chain = LLMChain(llm=llm, prompt=define_nodes_prompt)\n",
      "/var/folders/5j/l7cwj9sd0c1gqp3xyv7290sm0000gn/T/ipykernel_87605/3993875937.py:24: LangChainDeprecationWarning: The method `Chain.run` was deprecated in langchain 0.1.0 and will be removed in 1.0. Use :meth:`~invoke` instead.\n",
      "  node_definitions = node_chain.run(structure=node_structure, example=node_example)\n"
     ]
    },
    {
     "name": "stdout",
     "output_type": "stream",
     "text": [
      "Node Definitions: {'Movie': {'Poster_Link': \"row['Poster_Link']\", 'Series_Title': \"row['Series_Title']\", 'Released_Year': \"row['Released_Year']\", 'Certificate': \"row['Certificate']\", 'Runtime': \"row['Runtime']\", 'Genre': \"row['Genre']\", 'IMDB_Rating': \"row['IMDB_Rating']\", 'Overview': \"row['Overview']\", 'Meta_score': \"row['Meta_score']\", 'Director': \"row['Director']\", 'No_of_Votes': \"row['No_of_Votes']\", 'Gross': \"row['Gross']\"}, 'Star': {'Name': \"row['Star4']\", 'Movie': \"row['Series_Title']\"}}\n"
     ]
    }
   ],
   "source": [
    "node_example = {\n",
    "    \"NodeLabel1\": {\"property1\": \"row['property1']\", \"property2\": \"row['property2']\"},\n",
    "    \"NodeLabel2\": {\"property1\": \"row['property1']\", \"property2\": \"row['property2']\"},\n",
    "}\n",
    "\n",
    "define_nodes_prompt = PromptTemplate(\n",
    "    input_variables=[\"structure\", \"example\"],\n",
    "    template=(\"\"\"\n",
    "        Analyze the dataset structure below and define labels for nodes and their properties.\\n\n",
    "        The node properties should be based on the dataset columns and their values.\\n\n",
    "        Return the result as a dictionary where the keys are the node labels and the values are the node properties.\\n\\n\n",
    "        Example: {example}\\n\\n\n",
    "        \n",
    "        Dataset Structure:\\n{structure}\\n\\n\n",
    "              \n",
    "        Make sure to include all the possible node labels and their properties. \n",
    "        Return only the dictionary containing node labels and properties, and don't include any other text or quotation.\n",
    "        \"\"\"\n",
    "    ),\n",
    ")\n",
    "\n",
    "\n",
    "node_chain = LLMChain(llm=llm, prompt=define_nodes_prompt)\n",
    "node_definitions = node_chain.run(structure=node_structure, example=node_example)\n",
    "node_definitions = ast.literal_eval(node_definitions)\n",
    "\n",
    "print(\"Node Definitions:\", node_definitions)"
   ]
  },
  {
   "cell_type": "code",
   "execution_count": 10,
   "metadata": {},
   "outputs": [
    {
     "name": "stdout",
     "output_type": "stream",
     "text": [
      "Relationships: [('Movie', 'DIRECTED_BY', 'Director'), ('Movie', 'ACTED_IN', 'Star'), ('Movie', 'ACTED_IN', 'Star'), ('Movie', 'ACTED_IN', 'Star'), ('Movie', 'ACTED_IN', 'Star')]\n"
     ]
    }
   ],
   "source": [
    "relationship_example = [\n",
    "    (\"NodeLabel1\", \"RelationshipLabel\", \"NodeLabel2\"),\n",
    "    (\"NodeLabel1\", \"RelationshipLabel\", \"NodeLabel3\"),\n",
    "    (\"NodeLabel2\", \"RelationshipLabel\", \"NodeLabel3\"),\n",
    "]\n",
    "\n",
    "# Step 2: Identify Relationships\n",
    "identify_relationships_prompt = PromptTemplate(\n",
    "    input_variables=[\"structure\", \"node_definitions\", \"example\"],\n",
    "    template=\"\"\"\n",
    "        Consider the following Dataset Structure:\\n{structure}\\n\\n\n",
    "\n",
    "        Consider the following Node Definitions:\\n{node_definitions}\\n\\n\n",
    "\n",
    "        Based on the dataset structure and node definitions, identify relationships (edges) between nodes.\\n\n",
    "        Return the relationships as a list of triples where each triple contains the start node label, relationship label, and end node label, and each triple is a tuple.\\n\n",
    "        Please return only the list of tuples. Please do not report triple backticks to identify a code block, just return the list of tuples.\\n\\n\n",
    "\n",
    "        Example:\\n{example}\n",
    "    \"\"\"\n",
    ")\n",
    "\n",
    "relationship_chain = LLMChain(llm=llm, prompt=identify_relationships_prompt)\n",
    "relationships = relationship_chain.run(structure=node_structure, node_definitions=str(node_definitions), example=str(relationship_example))\n",
    "\n",
    "# Convert the output to a Python list of tuples\n",
    "relationships = eval(relationships)\n",
    "print(\"Relationships:\", relationships)"
   ]
  },
  {
   "cell_type": "code",
   "execution_count": 11,
   "metadata": {},
   "outputs": [
    {
     "name": "stdout",
     "output_type": "stream",
     "text": [
      "Cypher Queries: CREATE (m:Movie {Poster_Link: \"row['Poster_Link']\", Series_Title: \"row['Series_Title']\", Released_Year: \"row['Released_Year']\", Certificate: \"row['Certificate']\", Runtime: \"row['Runtime']\", Genre: \"row['Genre']\", IMDB_Rating: \"row['IMDB_Rating']\", Overview: \"row['Overview']\", Meta_score: \"row['Meta_score']\", Director: \"row['Director']\", No_of_Votes: \"row['No_of_Votes']\", Gross: \"row['Gross']\"})CREATE (s:Star {Name: \"row['Star4']\", Movie: \"row['Series_Title']\"})CREATE (m)-[:DIRECTED_BY]->(:Director {Name: \"row['Director']\"})CREATE (m)-[:ACTED_IN]->(s)CREATE (m)-[:ACTED_IN]->(s)CREATE (m)-[:ACTED_IN]->(s)CREATE (m)-[:ACTED_IN]->(s);\n"
     ]
    }
   ],
   "source": [
    "example_cypher = \"\"\"\n",
    "CREATE (n1:NodeLabel1 {'property1': 'row['property'1]', 'property2': 'row['property2]'})\n",
    "CREATE (n2:NodeLabel2 {'property1': 'row['property'1]', 'property2': 'row['property2]'})\n",
    "CREATE (n1)-[:RelationshipLabel]->(n2);\n",
    "\"\"\"\n",
    "\n",
    "# Step 3: Build Cypher Queries\n",
    "build_cypher_prompt = PromptTemplate(\n",
    "    input_variables=[\"structure\", \"node_definitions\", \"relationships\", \"example\"],\n",
    "    template=\"\"\"\n",
    "        Consider the following Node Definitions:\\n{node_definitions}\\n\\n\n",
    "        Consider the following Relationships:\\n{relationships}\\n\\n\n",
    "        Generate Cypher queries to create nodes and relationships using the node definitions and relationships below. Remember to replace the placeholder values with actual data from the dataset.\\n\n",
    "        Include all the properties in the Node Definitions for each node as defined and create relationships.\\n\n",
    "        Return a single string with each query separated by a semicolon.\\n\n",
    "        Don't include any other text or quotation marks in the response.\\n\n",
    "        Please return only the string containing Cypher queries. Please do not report triple backticks to identify a code block.\\n\\n\n",
    "\n",
    "\n",
    "        Example:\\n{example}\n",
    "    \"\"\"\n",
    ")\n",
    "\n",
    "cypher_chain = LLMChain(llm=llm, prompt=build_cypher_prompt)\n",
    "cypher_queries_str = cypher_chain.run(structure=node_structure, node_definitions=str(node_definitions), relationships=str(relationships), example=example_cypher)\n",
    "\n",
    "# Convert the output to a list of strings\n",
    "cypher_queries = cypher_queries_str.replace('\\n', '')#.split(';')\n",
    "print(\"Cypher Queries:\", cypher_queries)"
   ]
  },
  {
   "cell_type": "code",
   "execution_count": 13,
   "metadata": {},
   "outputs": [
    {
     "name": "stdout",
     "output_type": "stream",
     "text": [
      "Executed query: CREATE (m:Movie {Poster_Link: \"https://m.media-amazon.com/images/M/MV5BMDFkYTc0MGEtZmNhMC00ZDIzLWFmNTEtODM1ZmRlYWMwMWFmXkEyXkFqcGdeQXVyMTMxODk2OTU@._V1_UX67_CR0,0,67,98_AL_.jpg\", Series_Title: \"The Shawshank Redemption\", Released_Year: \"1994\", Certificate: \"A\", Runtime: \"142 min\", Genre: \"Drama\", IMDB_Rating: \"9.3\", Overview: \"Two imprisoned men bond over a number of years, finding solace and eventual redemption through acts of common decency.\", Meta_score: \"80.0\", Director: \"Frank Darabont\", No_of_Votes: \"2343110\", Gross: \"28,341,469\"})CREATE (s:Star {Name: \"William Sadler\", Movie: \"The Shawshank Redemption\"})CREATE (m)-[:DIRECTED_BY]->(:Director {Name: \"Frank Darabont\"})CREATE (m)-[:ACTED_IN]->(s)CREATE (m)-[:ACTED_IN]->(s)CREATE (m)-[:ACTED_IN]->(s)CREATE (m)-[:ACTED_IN]->(s);\n",
      "Executed query: CREATE (m:Movie {Poster_Link: \"https://m.media-amazon.com/images/M/MV5BM2MyNjYxNmUtYTAwNi00MTYxLWJmNWYtYzZlODY3ZTk3OTFlXkEyXkFqcGdeQXVyNzkwMjQ5NzM@._V1_UY98_CR1,0,67,98_AL_.jpg\", Series_Title: \"The Godfather\", Released_Year: \"1972\", Certificate: \"A\", Runtime: \"175 min\", Genre: \"Crime, Drama\", IMDB_Rating: \"9.2\", Overview: \"An organized crime dynasty's aging patriarch transfers control of his clandestine empire to his reluctant son.\", Meta_score: \"100.0\", Director: \"Francis Ford Coppola\", No_of_Votes: \"1620367\", Gross: \"134,966,411\"})CREATE (s:Star {Name: \"Diane Keaton\", Movie: \"The Godfather\"})CREATE (m)-[:DIRECTED_BY]->(:Director {Name: \"Francis Ford Coppola\"})CREATE (m)-[:ACTED_IN]->(s)CREATE (m)-[:ACTED_IN]->(s)CREATE (m)-[:ACTED_IN]->(s)CREATE (m)-[:ACTED_IN]->(s);\n",
      "Executed query: CREATE (m:Movie {Poster_Link: \"https://m.media-amazon.com/images/M/MV5BMTMxNTMwODM0NF5BMl5BanBnXkFtZTcwODAyMTk2Mw@@._V1_UX67_CR0,0,67,98_AL_.jpg\", Series_Title: \"The Dark Knight\", Released_Year: \"2008\", Certificate: \"UA\", Runtime: \"152 min\", Genre: \"Action, Crime, Drama\", IMDB_Rating: \"9.0\", Overview: \"When the menace known as the Joker wreaks havoc and chaos on the people of Gotham, Batman must accept one of the greatest psychological and physical tests of his ability to fight injustice.\", Meta_score: \"84.0\", Director: \"Christopher Nolan\", No_of_Votes: \"2303232\", Gross: \"534,858,444\"})CREATE (s:Star {Name: \"Michael Caine\", Movie: \"The Dark Knight\"})CREATE (m)-[:DIRECTED_BY]->(:Director {Name: \"Christopher Nolan\"})CREATE (m)-[:ACTED_IN]->(s)CREATE (m)-[:ACTED_IN]->(s)CREATE (m)-[:ACTED_IN]->(s)CREATE (m)-[:ACTED_IN]->(s);\n",
      "Executed query: CREATE (m:Movie {Poster_Link: \"https://m.media-amazon.com/images/M/MV5BMWMwMGQzZTItY2JlNC00OWZiLWIyMDctNDk2ZDQ2YjRjMWQ0XkEyXkFqcGdeQXVyNzkwMjQ5NzM@._V1_UY98_CR1,0,67,98_AL_.jpg\", Series_Title: \"The Godfather: Part II\", Released_Year: \"1974\", Certificate: \"A\", Runtime: \"202 min\", Genre: \"Crime, Drama\", IMDB_Rating: \"9.0\", Overview: \"The early life and career of Vito Corleone in 1920s New York City is portrayed, while his son, Michael, expands and tightens his grip on the family crime syndicate.\", Meta_score: \"90.0\", Director: \"Francis Ford Coppola\", No_of_Votes: \"1129952\", Gross: \"57,300,000\"})CREATE (s:Star {Name: \"Diane Keaton\", Movie: \"The Godfather: Part II\"})CREATE (m)-[:DIRECTED_BY]->(:Director {Name: \"Francis Ford Coppola\"})CREATE (m)-[:ACTED_IN]->(s)CREATE (m)-[:ACTED_IN]->(s)CREATE (m)-[:ACTED_IN]->(s)CREATE (m)-[:ACTED_IN]->(s);\n",
      "Executed query: CREATE (m:Movie {Poster_Link: \"https://m.media-amazon.com/images/M/MV5BMWU4N2FjNzYtNTVkNC00NzQ0LTg0MjAtYTJlMjFhNGUxZDFmXkEyXkFqcGdeQXVyNjc1NTYyMjg@._V1_UX67_CR0,0,67,98_AL_.jpg\", Series_Title: \"12 Angry Men\", Released_Year: \"1957\", Certificate: \"U\", Runtime: \"96 min\", Genre: \"Crime, Drama\", IMDB_Rating: \"9.0\", Overview: \"A jury holdout attempts to prevent a miscarriage of justice by forcing his colleagues to reconsider the evidence.\", Meta_score: \"96.0\", Director: \"Sidney Lumet\", No_of_Votes: \"689845\", Gross: \"4,360,000\"})CREATE (s:Star {Name: \"John Fiedler\", Movie: \"12 Angry Men\"})CREATE (m)-[:DIRECTED_BY]->(:Director {Name: \"Sidney Lumet\"})CREATE (m)-[:ACTED_IN]->(s)CREATE (m)-[:ACTED_IN]->(s)CREATE (m)-[:ACTED_IN]->(s)CREATE (m)-[:ACTED_IN]->(s);\n",
      "Executed query: CREATE (m:Movie {Poster_Link: \"https://m.media-amazon.com/images/M/MV5BNzA5ZDNlZWMtM2NhNS00NDJjLTk4NDItYTRmY2EwMWZlMTY3XkEyXkFqcGdeQXVyNzkwMjQ5NzM@._V1_UX67_CR0,0,67,98_AL_.jpg\", Series_Title: \"The Lord of the Rings: The Return of the King\", Released_Year: \"2003\", Certificate: \"U\", Runtime: \"201 min\", Genre: \"Action, Adventure, Drama\", IMDB_Rating: \"8.9\", Overview: \"Gandalf and Aragorn lead the World of Men against Sauron's army to draw his gaze from Frodo and Sam as they approach Mount Doom with the One Ring.\", Meta_score: \"94.0\", Director: \"Peter Jackson\", No_of_Votes: \"1642758\", Gross: \"377,845,905\"})CREATE (s:Star {Name: \"Orlando Bloom\", Movie: \"The Lord of the Rings: The Return of the King\"})CREATE (m)-[:DIRECTED_BY]->(:Director {Name: \"Peter Jackson\"})CREATE (m)-[:ACTED_IN]->(s)CREATE (m)-[:ACTED_IN]->(s)CREATE (m)-[:ACTED_IN]->(s)CREATE (m)-[:ACTED_IN]->(s);\n",
      "Executed query: CREATE (m:Movie {Poster_Link: \"https://m.media-amazon.com/images/M/MV5BNGNhMDIzZTUtNTBlZi00MTRlLWFjM2ItYzViMjE3YzI5MjljXkEyXkFqcGdeQXVyNzkwMjQ5NzM@._V1_UY98_CR0,0,67,98_AL_.jpg\", Series_Title: \"Pulp Fiction\", Released_Year: \"1994\", Certificate: \"A\", Runtime: \"154 min\", Genre: \"Crime, Drama\", IMDB_Rating: \"8.9\", Overview: \"The lives of two mob hitmen, a boxer, a gangster and his wife, and a pair of diner bandits intertwine in four tales of violence and redemption.\", Meta_score: \"94.0\", Director: \"Quentin Tarantino\", No_of_Votes: \"1826188\", Gross: \"107,928,762\"})CREATE (s:Star {Name: \"Bruce Willis\", Movie: \"Pulp Fiction\"})CREATE (m)-[:DIRECTED_BY]->(:Director {Name: \"Quentin Tarantino\"})CREATE (m)-[:ACTED_IN]->(s)CREATE (m)-[:ACTED_IN]->(s)CREATE (m)-[:ACTED_IN]->(s)CREATE (m)-[:ACTED_IN]->(s);\n",
      "Executed query: CREATE (m:Movie {Poster_Link: \"https://m.media-amazon.com/images/M/MV5BNDE4OTMxMTctNmRhYy00NWE2LTg3YzItYTk3M2UwOTU5Njg4XkEyXkFqcGdeQXVyNjU0OTQ0OTY@._V1_UX67_CR0,0,67,98_AL_.jpg\", Series_Title: \"Schindler's List\", Released_Year: \"1993\", Certificate: \"A\", Runtime: \"195 min\", Genre: \"Biography, Drama, History\", IMDB_Rating: \"8.9\", Overview: \"In German-occupied Poland during World War II, industrialist Oskar Schindler gradually becomes concerned for his Jewish workforce after witnessing their persecution by the Nazis.\", Meta_score: \"94.0\", Director: \"Steven Spielberg\", No_of_Votes: \"1213505\", Gross: \"96,898,818\"})CREATE (s:Star {Name: \"Caroline Goodall\", Movie: \"Schindler's List\"})CREATE (m)-[:DIRECTED_BY]->(:Director {Name: \"Steven Spielberg\"})CREATE (m)-[:ACTED_IN]->(s)CREATE (m)-[:ACTED_IN]->(s)CREATE (m)-[:ACTED_IN]->(s)CREATE (m)-[:ACTED_IN]->(s);\n",
      "Executed query: CREATE (m:Movie {Poster_Link: \"https://m.media-amazon.com/images/M/MV5BMjAxMzY3NjcxNF5BMl5BanBnXkFtZTcwNTI5OTM0Mw@@._V1_UX67_CR0,0,67,98_AL_.jpg\", Series_Title: \"Inception\", Released_Year: \"2010\", Certificate: \"UA\", Runtime: \"148 min\", Genre: \"Action, Adventure, Sci-Fi\", IMDB_Rating: \"8.8\", Overview: \"A thief who steals corporate secrets through the use of dream-sharing technology is given the inverse task of planting an idea into the mind of a C.E.O.\", Meta_score: \"74.0\", Director: \"Christopher Nolan\", No_of_Votes: \"2067042\", Gross: \"292,576,195\"})CREATE (s:Star {Name: \"Ken Watanabe\", Movie: \"Inception\"})CREATE (m)-[:DIRECTED_BY]->(:Director {Name: \"Christopher Nolan\"})CREATE (m)-[:ACTED_IN]->(s)CREATE (m)-[:ACTED_IN]->(s)CREATE (m)-[:ACTED_IN]->(s)CREATE (m)-[:ACTED_IN]->(s);\n",
      "Executed query: CREATE (m:Movie {Poster_Link: \"https://m.media-amazon.com/images/M/MV5BMmEzNTkxYjQtZTc0MC00YTVjLTg5ZTEtZWMwOWVlYzY0NWIwXkEyXkFqcGdeQXVyNzkwMjQ5NzM@._V1_UX67_CR0,0,67,98_AL_.jpg\", Series_Title: \"Fight Club\", Released_Year: \"1999\", Certificate: \"A\", Runtime: \"139 min\", Genre: \"Drama\", IMDB_Rating: \"8.8\", Overview: \"An insomniac office worker and a devil-may-care soapmaker form an underground fight club that evolves into something much, much more.\", Meta_score: \"66.0\", Director: \"David Fincher\", No_of_Votes: \"1854740\", Gross: \"37,030,102\"})CREATE (s:Star {Name: \"Zach Grenier\", Movie: \"Fight Club\"})CREATE (m)-[:DIRECTED_BY]->(:Director {Name: \"David Fincher\"})CREATE (m)-[:ACTED_IN]->(s)CREATE (m)-[:ACTED_IN]->(s)CREATE (m)-[:ACTED_IN]->(s)CREATE (m)-[:ACTED_IN]->(s);\n"
     ]
    }
   ],
   "source": [
    "# Iterate over each row of the dataframe\n",
    "for index, row in df.iterrows():\n",
    "    # Replace placeholders with actual values from the dataframe\n",
    "    cypher_query = cypher_queries\n",
    "    for column in df.columns:\n",
    "        cypher_query = cypher_query.replace(f\"row['{column}']\", str(row[column]))\n",
    "        \n",
    "    # Execute the Cypher query\n",
    "    conn.execute_query(cypher_query)\n",
    "    print(f\"Executed query: {cypher_query}\")"
   ]
  },
  {
   "cell_type": "code",
   "execution_count": 14,
   "metadata": {},
   "outputs": [
    {
     "data": {
      "text/plain": [
       "[<Record m.title='The Shawshank Redemption' a.name='William Sadler'>,\n",
       " <Record m.title='The Shawshank Redemption' a.name='Bob Gunton'>,\n",
       " <Record m.title='The Shawshank Redemption' a.name='Morgan Freeman'>,\n",
       " <Record m.title='The Shawshank Redemption' a.name='Tim Robbins'>,\n",
       " <Record m.title='The Godfather' a.name='Diane Keaton'>,\n",
       " <Record m.title='The Godfather' a.name='James Caan'>,\n",
       " <Record m.title='The Godfather' a.name='Al Pacino'>,\n",
       " <Record m.title='The Godfather' a.name='Marlon Brando'>,\n",
       " <Record m.title='The Dark Knight' a.name='Michael Caine'>,\n",
       " <Record m.title='The Dark Knight' a.name='Aaron Eckhart'>,\n",
       " <Record m.title='The Dark Knight' a.name='Heath Ledger'>,\n",
       " <Record m.title='The Dark Knight' a.name='Christian Bale'>,\n",
       " <Record m.title='The Godfather: Part II' a.name='Diane Keaton'>,\n",
       " <Record m.title='The Godfather: Part II' a.name='Robert Duvall'>,\n",
       " <Record m.title='The Godfather: Part II' a.name='Robert De Niro'>,\n",
       " <Record m.title='The Godfather: Part II' a.name='Al Pacino'>,\n",
       " <Record m.title='12 Angry Men' a.name='John Fiedler'>,\n",
       " <Record m.title='12 Angry Men' a.name='Martin Balsam'>,\n",
       " <Record m.title='12 Angry Men' a.name='Lee J. Cobb'>,\n",
       " <Record m.title='12 Angry Men' a.name='Henry Fonda'>,\n",
       " <Record m.title='The Lord of the Rings: The Return of the King' a.name='Orlando Bloom'>,\n",
       " <Record m.title='The Lord of the Rings: The Return of the King' a.name='Ian McKellen'>,\n",
       " <Record m.title='The Lord of the Rings: The Return of the King' a.name='Viggo Mortensen'>,\n",
       " <Record m.title='The Lord of the Rings: The Return of the King' a.name='Elijah Wood'>,\n",
       " <Record m.title='Pulp Fiction' a.name='Bruce Willis'>,\n",
       " <Record m.title='Pulp Fiction' a.name='Samuel L. Jackson'>,\n",
       " <Record m.title='Pulp Fiction' a.name='Uma Thurman'>,\n",
       " <Record m.title='Pulp Fiction' a.name='John Travolta'>,\n",
       " <Record m.title=\"Schindler's List\" a.name='Caroline Goodall'>,\n",
       " <Record m.title=\"Schindler's List\" a.name='Ben Kingsley'>,\n",
       " <Record m.title=\"Schindler's List\" a.name='Ralph Fiennes'>,\n",
       " <Record m.title=\"Schindler's List\" a.name='Liam Neeson'>,\n",
       " <Record m.title='Inception' a.name='Ken Watanabe'>,\n",
       " <Record m.title='Inception' a.name='Elliot Page'>,\n",
       " <Record m.title='Inception' a.name='Joseph Gordon-Levitt'>,\n",
       " <Record m.title='Inception' a.name='Leonardo DiCaprio'>,\n",
       " <Record m.title='Fight Club' a.name='Zach Grenier'>,\n",
       " <Record m.title='Fight Club' a.name='Meat Loaf'>,\n",
       " <Record m.title='Fight Club' a.name='Edward Norton'>,\n",
       " <Record m.title='Fight Club' a.name='Brad Pitt'>]"
      ]
     },
     "execution_count": 14,
     "metadata": {},
     "output_type": "execute_result"
    }
   ],
   "source": [
    "query = \"\"\"\n",
    "MATCH (m:Movie)-[:ACTED_IN]-(a:Actor)\n",
    "RETURN m.title, a.name;\n",
    "\"\"\"\n",
    "conn.execute_query(query)"
   ]
  },
  {
   "cell_type": "code",
   "execution_count": 15,
   "metadata": {},
   "outputs": [
    {
     "name": "stdout",
     "output_type": "stream",
     "text": [
      "Database resetted successfully!\n"
     ]
    }
   ],
   "source": [
    "conn.reset_database()"
   ]
  },
  {
   "cell_type": "code",
   "execution_count": 16,
   "metadata": {},
   "outputs": [
    {
     "name": "stdout",
     "output_type": "stream",
     "text": [
      "Nodes:[Node(id='Frank Darabont', type='Person', properties={}), Node(id='Drama', type='Genre', properties={}), Node(id='Bob Gunton', type='Person', properties={}), Node(id='Tim Robbins', type='Person', properties={}), Node(id='Morgan Freeman', type='Person', properties={}), Node(id='William Sadler', type='Person', properties={}), Node(id='The Shawshank Redemption', type='Movie', properties={})]\n",
      "Relationships:[Relationship(source=Node(id='The Shawshank Redemption', type='Movie', properties={}), target=Node(id='Frank Darabont', type='Person', properties={}), type='DIRECTED_BY', properties={}), Relationship(source=Node(id='The Shawshank Redemption', type='Movie', properties={}), target=Node(id='Tim Robbins', type='Person', properties={}), type='STARRING', properties={}), Relationship(source=Node(id='The Shawshank Redemption', type='Movie', properties={}), target=Node(id='Morgan Freeman', type='Person', properties={}), type='STARRING', properties={}), Relationship(source=Node(id='The Shawshank Redemption', type='Movie', properties={}), target=Node(id='Bob Gunton', type='Person', properties={}), type='STARRING', properties={}), Relationship(source=Node(id='The Shawshank Redemption', type='Movie', properties={}), target=Node(id='William Sadler', type='Person', properties={}), type='STARRING', properties={}), Relationship(source=Node(id='The Shawshank Redemption', type='Movie', properties={}), target=Node(id='Drama', type='Genre', properties={}), type='HAS_GENRE', properties={})]\n"
     ]
    }
   ],
   "source": [
    "from langchain_experimental.graph_transformers import LLMGraphTransformer\n",
    "from langchain_core.documents import Document\n",
    "\n",
    "llm_transformer = LLMGraphTransformer(llm=llm)\n",
    "\n",
    "documents = []\n",
    "\n",
    "for _, row in df.iterrows():\n",
    "    text = f\"Title: {row['Series_Title']}\\nDirector: {row['Director']}\\nStars: {row['Star1']}, {row['Star2']}, {row['Star3']}, {row['Star4']}\\nGenre: {row['Genre']}\\nOverview: {row['Overview']}\"\n",
    "    documents.append(Document(page_content=text))\n",
    "\n",
    "\n",
    "graph_documents = llm_transformer.convert_to_graph_documents(documents)\n",
    "print(f\"Nodes:{graph_documents[0].nodes}\")\n",
    "print(f\"Relationships:{graph_documents[0].relationships}\")"
   ]
  },
  {
   "cell_type": "code",
   "execution_count": 17,
   "metadata": {},
   "outputs": [],
   "source": [
    "from langchain_community.graphs import Neo4jGraph\n",
    "\n",
    "graph = Neo4jGraph(url=uri, username=user, password=password)\n",
    "graph.add_graph_documents(graph_documents)"
   ]
  },
  {
   "cell_type": "code",
   "execution_count": 150,
   "metadata": {},
   "outputs": [
    {
     "name": "stdout",
     "output_type": "stream",
     "text": [
      "Database resetted successfully!\n"
     ]
    }
   ],
   "source": [
    "conn.reset_database()"
   ]
  },
  {
   "cell_type": "code",
   "execution_count": 28,
   "metadata": {},
   "outputs": [],
   "source": [
    "from llama_index.core import KnowledgeGraphIndex, SimpleDirectoryReader\n",
    "from llama_index.core import StorageContext\n",
    "from llama_index.graph_stores.neo4j import Neo4jGraphStore\n",
    "from llama_index.llms.gemini import Gemini\n",
    "from llama_index.core import Settings\n",
    "from llama_index.embeddings.gemini import GeminiEmbedding\n",
    "\n",
    "\n",
    "\n",
    "llm = Gemini(\n",
    "    model=\"models/gemini-1.5-flash\",\n",
    "    api_key=api_key,\n",
    "    temperature=0,\n",
    ")\n",
    "\n",
    "embed_model = GeminiEmbedding(\n",
    "    model_name=\"models/text-embedding-004\",\n",
    "    task_type=\"retrieval_document\",\n",
    "    api_key=api_key,\n",
    ")\n",
    "\n",
    "Settings.llm = llm\n",
    "Settings.embed_model = embed_model\n",
    "Settings.chunk_size = 512\n",
    "\n",
    "from IPython.display import Markdown, display"
   ]
  },
  {
   "cell_type": "code",
   "execution_count": 29,
   "metadata": {},
   "outputs": [],
   "source": [
    "documents = SimpleDirectoryReader(\n",
    "    input_files=[\"data/imdb_top_1000.csv\"]\n",
    ").load_data()"
   ]
  },
  {
   "cell_type": "code",
   "execution_count": 31,
   "metadata": {},
   "outputs": [
    {
     "ename": "ResourceExhausted",
     "evalue": "429 Resource has been exhausted (e.g. check quota).",
     "output_type": "error",
     "traceback": [
      "\u001b[0;31m---------------------------------------------------------------------------\u001b[0m",
      "\u001b[0;31mResourceExhausted\u001b[0m                         Traceback (most recent call last)",
      "Cell \u001b[0;32mIn[31], line 10\u001b[0m\n\u001b[1;32m      7\u001b[0m storage_context \u001b[38;5;241m=\u001b[39m StorageContext\u001b[38;5;241m.\u001b[39mfrom_defaults(graph_store\u001b[38;5;241m=\u001b[39mgraph_store)\n\u001b[1;32m      9\u001b[0m \u001b[38;5;66;03m# NOTE: can take a while!\u001b[39;00m\n\u001b[0;32m---> 10\u001b[0m index \u001b[38;5;241m=\u001b[39m \u001b[43mKnowledgeGraphIndex\u001b[49m\u001b[38;5;241;43m.\u001b[39;49m\u001b[43mfrom_documents\u001b[49m\u001b[43m(\u001b[49m\n\u001b[1;32m     11\u001b[0m \u001b[43m    \u001b[49m\u001b[43mdocuments\u001b[49m\u001b[43m,\u001b[49m\n\u001b[1;32m     12\u001b[0m \u001b[43m    \u001b[49m\u001b[43mstorage_context\u001b[49m\u001b[38;5;241;43m=\u001b[39;49m\u001b[43mstorage_context\u001b[49m\u001b[43m,\u001b[49m\n\u001b[1;32m     13\u001b[0m \u001b[43m    \u001b[49m\u001b[43mmax_triplets_per_chunk\u001b[49m\u001b[38;5;241;43m=\u001b[39;49m\u001b[38;5;241;43m2\u001b[39;49m\u001b[43m,\u001b[49m\n\u001b[1;32m     14\u001b[0m \u001b[43m)\u001b[49m\n",
      "File \u001b[0;32m~/Documents/Documents - Cristian’s Laptop/GitHub/rag-knowledge-graph/venv/lib/python3.12/site-packages/llama_index/core/indices/base.py:119\u001b[0m, in \u001b[0;36mBaseIndex.from_documents\u001b[0;34m(cls, documents, storage_context, show_progress, callback_manager, transformations, **kwargs)\u001b[0m\n\u001b[1;32m    110\u001b[0m     docstore\u001b[38;5;241m.\u001b[39mset_document_hash(doc\u001b[38;5;241m.\u001b[39mget_doc_id(), doc\u001b[38;5;241m.\u001b[39mhash)\n\u001b[1;32m    112\u001b[0m nodes \u001b[38;5;241m=\u001b[39m run_transformations(\n\u001b[1;32m    113\u001b[0m     documents,  \u001b[38;5;66;03m# type: ignore\u001b[39;00m\n\u001b[1;32m    114\u001b[0m     transformations,\n\u001b[1;32m    115\u001b[0m     show_progress\u001b[38;5;241m=\u001b[39mshow_progress,\n\u001b[1;32m    116\u001b[0m     \u001b[38;5;241m*\u001b[39m\u001b[38;5;241m*\u001b[39mkwargs,\n\u001b[1;32m    117\u001b[0m )\n\u001b[0;32m--> 119\u001b[0m \u001b[38;5;28;01mreturn\u001b[39;00m \u001b[38;5;28;43mcls\u001b[39;49m\u001b[43m(\u001b[49m\n\u001b[1;32m    120\u001b[0m \u001b[43m    \u001b[49m\u001b[43mnodes\u001b[49m\u001b[38;5;241;43m=\u001b[39;49m\u001b[43mnodes\u001b[49m\u001b[43m,\u001b[49m\n\u001b[1;32m    121\u001b[0m \u001b[43m    \u001b[49m\u001b[43mstorage_context\u001b[49m\u001b[38;5;241;43m=\u001b[39;49m\u001b[43mstorage_context\u001b[49m\u001b[43m,\u001b[49m\n\u001b[1;32m    122\u001b[0m \u001b[43m    \u001b[49m\u001b[43mcallback_manager\u001b[49m\u001b[38;5;241;43m=\u001b[39;49m\u001b[43mcallback_manager\u001b[49m\u001b[43m,\u001b[49m\n\u001b[1;32m    123\u001b[0m \u001b[43m    \u001b[49m\u001b[43mshow_progress\u001b[49m\u001b[38;5;241;43m=\u001b[39;49m\u001b[43mshow_progress\u001b[49m\u001b[43m,\u001b[49m\n\u001b[1;32m    124\u001b[0m \u001b[43m    \u001b[49m\u001b[43mtransformations\u001b[49m\u001b[38;5;241;43m=\u001b[39;49m\u001b[43mtransformations\u001b[49m\u001b[43m,\u001b[49m\n\u001b[1;32m    125\u001b[0m \u001b[43m    \u001b[49m\u001b[38;5;241;43m*\u001b[39;49m\u001b[38;5;241;43m*\u001b[39;49m\u001b[43mkwargs\u001b[49m\u001b[43m,\u001b[49m\n\u001b[1;32m    126\u001b[0m \u001b[43m\u001b[49m\u001b[43m)\u001b[49m\n",
      "File \u001b[0;32m~/Documents/Documents - Cristian’s Laptop/GitHub/rag-knowledge-graph/venv/lib/python3.12/site-packages/llama_index/core/indices/knowledge_graph/base.py:99\u001b[0m, in \u001b[0;36mKnowledgeGraphIndex.__init__\u001b[0;34m(self, nodes, objects, index_struct, llm, embed_model, storage_context, kg_triplet_extract_template, max_triplets_per_chunk, include_embeddings, show_progress, max_object_length, kg_triplet_extract_fn, **kwargs)\u001b[0m\n\u001b[1;32m     96\u001b[0m \u001b[38;5;28mself\u001b[39m\u001b[38;5;241m.\u001b[39m_llm \u001b[38;5;241m=\u001b[39m llm \u001b[38;5;129;01mor\u001b[39;00m Settings\u001b[38;5;241m.\u001b[39mllm\n\u001b[1;32m     97\u001b[0m \u001b[38;5;28mself\u001b[39m\u001b[38;5;241m.\u001b[39m_embed_model \u001b[38;5;241m=\u001b[39m embed_model \u001b[38;5;129;01mor\u001b[39;00m Settings\u001b[38;5;241m.\u001b[39membed_model\n\u001b[0;32m---> 99\u001b[0m \u001b[38;5;28;43msuper\u001b[39;49m\u001b[43m(\u001b[49m\u001b[43m)\u001b[49m\u001b[38;5;241;43m.\u001b[39;49m\u001b[38;5;21;43m__init__\u001b[39;49m\u001b[43m(\u001b[49m\n\u001b[1;32m    100\u001b[0m \u001b[43m    \u001b[49m\u001b[43mnodes\u001b[49m\u001b[38;5;241;43m=\u001b[39;49m\u001b[43mnodes\u001b[49m\u001b[43m,\u001b[49m\n\u001b[1;32m    101\u001b[0m \u001b[43m    \u001b[49m\u001b[43mindex_struct\u001b[49m\u001b[38;5;241;43m=\u001b[39;49m\u001b[43mindex_struct\u001b[49m\u001b[43m,\u001b[49m\n\u001b[1;32m    102\u001b[0m \u001b[43m    \u001b[49m\u001b[43mstorage_context\u001b[49m\u001b[38;5;241;43m=\u001b[39;49m\u001b[43mstorage_context\u001b[49m\u001b[43m,\u001b[49m\n\u001b[1;32m    103\u001b[0m \u001b[43m    \u001b[49m\u001b[43mshow_progress\u001b[49m\u001b[38;5;241;43m=\u001b[39;49m\u001b[43mshow_progress\u001b[49m\u001b[43m,\u001b[49m\n\u001b[1;32m    104\u001b[0m \u001b[43m    \u001b[49m\u001b[43mobjects\u001b[49m\u001b[38;5;241;43m=\u001b[39;49m\u001b[43mobjects\u001b[49m\u001b[43m,\u001b[49m\n\u001b[1;32m    105\u001b[0m \u001b[43m    \u001b[49m\u001b[38;5;241;43m*\u001b[39;49m\u001b[38;5;241;43m*\u001b[39;49m\u001b[43mkwargs\u001b[49m\u001b[43m,\u001b[49m\n\u001b[1;32m    106\u001b[0m \u001b[43m\u001b[49m\u001b[43m)\u001b[49m\n\u001b[1;32m    108\u001b[0m \u001b[38;5;66;03m# TODO: legacy conversion - remove in next release\u001b[39;00m\n\u001b[1;32m    109\u001b[0m \u001b[38;5;28;01mif\u001b[39;00m (\n\u001b[1;32m    110\u001b[0m     \u001b[38;5;28mlen\u001b[39m(\u001b[38;5;28mself\u001b[39m\u001b[38;5;241m.\u001b[39mindex_struct\u001b[38;5;241m.\u001b[39mtable) \u001b[38;5;241m>\u001b[39m \u001b[38;5;241m0\u001b[39m\n\u001b[1;32m    111\u001b[0m     \u001b[38;5;129;01mand\u001b[39;00m \u001b[38;5;28misinstance\u001b[39m(\u001b[38;5;28mself\u001b[39m\u001b[38;5;241m.\u001b[39mgraph_store, SimpleGraphStore)\n\u001b[1;32m    112\u001b[0m     \u001b[38;5;129;01mand\u001b[39;00m \u001b[38;5;28mlen\u001b[39m(\u001b[38;5;28mself\u001b[39m\u001b[38;5;241m.\u001b[39mgraph_store\u001b[38;5;241m.\u001b[39m_data\u001b[38;5;241m.\u001b[39mgraph_dict) \u001b[38;5;241m==\u001b[39m \u001b[38;5;241m0\u001b[39m\n\u001b[1;32m    113\u001b[0m ):\n",
      "File \u001b[0;32m~/Documents/Documents - Cristian’s Laptop/GitHub/rag-knowledge-graph/venv/lib/python3.12/site-packages/llama_index/core/indices/base.py:77\u001b[0m, in \u001b[0;36mBaseIndex.__init__\u001b[0;34m(self, nodes, objects, index_struct, storage_context, callback_manager, transformations, show_progress, **kwargs)\u001b[0m\n\u001b[1;32m     75\u001b[0m \u001b[38;5;28;01mif\u001b[39;00m index_struct \u001b[38;5;129;01mis\u001b[39;00m \u001b[38;5;28;01mNone\u001b[39;00m:\n\u001b[1;32m     76\u001b[0m     nodes \u001b[38;5;241m=\u001b[39m nodes \u001b[38;5;129;01mor\u001b[39;00m []\n\u001b[0;32m---> 77\u001b[0m     index_struct \u001b[38;5;241m=\u001b[39m \u001b[38;5;28;43mself\u001b[39;49m\u001b[38;5;241;43m.\u001b[39;49m\u001b[43mbuild_index_from_nodes\u001b[49m\u001b[43m(\u001b[49m\n\u001b[1;32m     78\u001b[0m \u001b[43m        \u001b[49m\u001b[43mnodes\u001b[49m\u001b[43m \u001b[49m\u001b[38;5;241;43m+\u001b[39;49m\u001b[43m \u001b[49m\u001b[43mobjects\u001b[49m\u001b[43m,\u001b[49m\u001b[43m  \u001b[49m\u001b[38;5;66;43;03m# type: ignore\u001b[39;49;00m\n\u001b[1;32m     79\u001b[0m \u001b[43m        \u001b[49m\u001b[38;5;241;43m*\u001b[39;49m\u001b[38;5;241;43m*\u001b[39;49m\u001b[43mkwargs\u001b[49m\u001b[43m,\u001b[49m\u001b[43m  \u001b[49m\u001b[38;5;66;43;03m# type: ignore\u001b[39;49;00m\n\u001b[1;32m     80\u001b[0m \u001b[43m    \u001b[49m\u001b[43m)\u001b[49m\n\u001b[1;32m     81\u001b[0m \u001b[38;5;28mself\u001b[39m\u001b[38;5;241m.\u001b[39m_index_struct \u001b[38;5;241m=\u001b[39m index_struct\n\u001b[1;32m     82\u001b[0m \u001b[38;5;28mself\u001b[39m\u001b[38;5;241m.\u001b[39m_storage_context\u001b[38;5;241m.\u001b[39mindex_store\u001b[38;5;241m.\u001b[39madd_index_struct(\u001b[38;5;28mself\u001b[39m\u001b[38;5;241m.\u001b[39m_index_struct)\n",
      "File \u001b[0;32m~/Documents/Documents - Cristian’s Laptop/GitHub/rag-knowledge-graph/venv/lib/python3.12/site-packages/llama_index/core/indices/base.py:185\u001b[0m, in \u001b[0;36mBaseIndex.build_index_from_nodes\u001b[0;34m(self, nodes, **build_kwargs)\u001b[0m\n\u001b[1;32m    183\u001b[0m \u001b[38;5;250m\u001b[39m\u001b[38;5;124;03m\"\"\"Build the index from nodes.\"\"\"\u001b[39;00m\n\u001b[1;32m    184\u001b[0m \u001b[38;5;28mself\u001b[39m\u001b[38;5;241m.\u001b[39m_docstore\u001b[38;5;241m.\u001b[39madd_documents(nodes, allow_update\u001b[38;5;241m=\u001b[39m\u001b[38;5;28;01mTrue\u001b[39;00m)\n\u001b[0;32m--> 185\u001b[0m \u001b[38;5;28;01mreturn\u001b[39;00m \u001b[38;5;28;43mself\u001b[39;49m\u001b[38;5;241;43m.\u001b[39;49m\u001b[43m_build_index_from_nodes\u001b[49m\u001b[43m(\u001b[49m\u001b[43mnodes\u001b[49m\u001b[43m,\u001b[49m\u001b[43m \u001b[49m\u001b[38;5;241;43m*\u001b[39;49m\u001b[38;5;241;43m*\u001b[39;49m\u001b[43mbuild_kwargs\u001b[49m\u001b[43m)\u001b[49m\n",
      "File \u001b[0;32m~/Documents/Documents - Cristian’s Laptop/GitHub/rag-knowledge-graph/venv/lib/python3.12/site-packages/llama_index/core/indices/knowledge_graph/base.py:212\u001b[0m, in \u001b[0;36mKnowledgeGraphIndex._build_index_from_nodes\u001b[0;34m(self, nodes, **build_kwargs)\u001b[0m\n\u001b[1;32m    208\u001b[0m nodes_with_progress \u001b[38;5;241m=\u001b[39m get_tqdm_iterable(\n\u001b[1;32m    209\u001b[0m     nodes, \u001b[38;5;28mself\u001b[39m\u001b[38;5;241m.\u001b[39m_show_progress, \u001b[38;5;124m\"\u001b[39m\u001b[38;5;124mProcessing nodes\u001b[39m\u001b[38;5;124m\"\u001b[39m\n\u001b[1;32m    210\u001b[0m )\n\u001b[1;32m    211\u001b[0m \u001b[38;5;28;01mfor\u001b[39;00m n \u001b[38;5;129;01min\u001b[39;00m nodes_with_progress:\n\u001b[0;32m--> 212\u001b[0m     triplets \u001b[38;5;241m=\u001b[39m \u001b[38;5;28;43mself\u001b[39;49m\u001b[38;5;241;43m.\u001b[39;49m\u001b[43m_extract_triplets\u001b[49m\u001b[43m(\u001b[49m\n\u001b[1;32m    213\u001b[0m \u001b[43m        \u001b[49m\u001b[43mn\u001b[49m\u001b[38;5;241;43m.\u001b[39;49m\u001b[43mget_content\u001b[49m\u001b[43m(\u001b[49m\u001b[43mmetadata_mode\u001b[49m\u001b[38;5;241;43m=\u001b[39;49m\u001b[43mMetadataMode\u001b[49m\u001b[38;5;241;43m.\u001b[39;49m\u001b[43mLLM\u001b[49m\u001b[43m)\u001b[49m\n\u001b[1;32m    214\u001b[0m \u001b[43m    \u001b[49m\u001b[43m)\u001b[49m\n\u001b[1;32m    215\u001b[0m     logger\u001b[38;5;241m.\u001b[39mdebug(\u001b[38;5;124mf\u001b[39m\u001b[38;5;124m\"\u001b[39m\u001b[38;5;124m> Extracted triplets: \u001b[39m\u001b[38;5;132;01m{\u001b[39;00mtriplets\u001b[38;5;132;01m}\u001b[39;00m\u001b[38;5;124m\"\u001b[39m)\n\u001b[1;32m    216\u001b[0m     \u001b[38;5;28;01mfor\u001b[39;00m triplet \u001b[38;5;129;01min\u001b[39;00m triplets:\n",
      "File \u001b[0;32m~/Documents/Documents - Cristian’s Laptop/GitHub/rag-knowledge-graph/venv/lib/python3.12/site-packages/llama_index/core/indices/knowledge_graph/base.py:154\u001b[0m, in \u001b[0;36mKnowledgeGraphIndex._extract_triplets\u001b[0;34m(self, text)\u001b[0m\n\u001b[1;32m    152\u001b[0m     \u001b[38;5;28;01mreturn\u001b[39;00m \u001b[38;5;28mself\u001b[39m\u001b[38;5;241m.\u001b[39m_kg_triplet_extract_fn(text)\n\u001b[1;32m    153\u001b[0m \u001b[38;5;28;01melse\u001b[39;00m:\n\u001b[0;32m--> 154\u001b[0m     \u001b[38;5;28;01mreturn\u001b[39;00m \u001b[38;5;28;43mself\u001b[39;49m\u001b[38;5;241;43m.\u001b[39;49m\u001b[43m_llm_extract_triplets\u001b[49m\u001b[43m(\u001b[49m\u001b[43mtext\u001b[49m\u001b[43m)\u001b[49m\n",
      "File \u001b[0;32m~/Documents/Documents - Cristian’s Laptop/GitHub/rag-knowledge-graph/venv/lib/python3.12/site-packages/llama_index/core/indices/knowledge_graph/base.py:158\u001b[0m, in \u001b[0;36mKnowledgeGraphIndex._llm_extract_triplets\u001b[0;34m(self, text)\u001b[0m\n\u001b[1;32m    156\u001b[0m \u001b[38;5;28;01mdef\u001b[39;00m \u001b[38;5;21m_llm_extract_triplets\u001b[39m(\u001b[38;5;28mself\u001b[39m, text: \u001b[38;5;28mstr\u001b[39m) \u001b[38;5;241m-\u001b[39m\u001b[38;5;241m>\u001b[39m List[Tuple[\u001b[38;5;28mstr\u001b[39m, \u001b[38;5;28mstr\u001b[39m, \u001b[38;5;28mstr\u001b[39m]]:\n\u001b[1;32m    157\u001b[0m \u001b[38;5;250m    \u001b[39m\u001b[38;5;124;03m\"\"\"Extract keywords from text.\"\"\"\u001b[39;00m\n\u001b[0;32m--> 158\u001b[0m     response \u001b[38;5;241m=\u001b[39m \u001b[38;5;28;43mself\u001b[39;49m\u001b[38;5;241;43m.\u001b[39;49m\u001b[43m_llm\u001b[49m\u001b[38;5;241;43m.\u001b[39;49m\u001b[43mpredict\u001b[49m\u001b[43m(\u001b[49m\n\u001b[1;32m    159\u001b[0m \u001b[43m        \u001b[49m\u001b[38;5;28;43mself\u001b[39;49m\u001b[38;5;241;43m.\u001b[39;49m\u001b[43mkg_triplet_extract_template\u001b[49m\u001b[43m,\u001b[49m\n\u001b[1;32m    160\u001b[0m \u001b[43m        \u001b[49m\u001b[43mtext\u001b[49m\u001b[38;5;241;43m=\u001b[39;49m\u001b[43mtext\u001b[49m\u001b[43m,\u001b[49m\n\u001b[1;32m    161\u001b[0m \u001b[43m    \u001b[49m\u001b[43m)\u001b[49m\n\u001b[1;32m    162\u001b[0m     \u001b[38;5;28;01mreturn\u001b[39;00m \u001b[38;5;28mself\u001b[39m\u001b[38;5;241m.\u001b[39m_parse_triplet_response(\n\u001b[1;32m    163\u001b[0m         response, max_length\u001b[38;5;241m=\u001b[39m\u001b[38;5;28mself\u001b[39m\u001b[38;5;241m.\u001b[39m_max_object_length\n\u001b[1;32m    164\u001b[0m     )\n",
      "File \u001b[0;32m~/Documents/Documents - Cristian’s Laptop/GitHub/rag-knowledge-graph/venv/lib/python3.12/site-packages/llama_index/core/instrumentation/dispatcher.py:311\u001b[0m, in \u001b[0;36mDispatcher.span.<locals>.wrapper\u001b[0;34m(func, instance, args, kwargs)\u001b[0m\n\u001b[1;32m    308\u001b[0m             _logger\u001b[38;5;241m.\u001b[39mdebug(\u001b[38;5;124mf\u001b[39m\u001b[38;5;124m\"\u001b[39m\u001b[38;5;124mFailed to reset active_span_id: \u001b[39m\u001b[38;5;132;01m{\u001b[39;00me\u001b[38;5;132;01m}\u001b[39;00m\u001b[38;5;124m\"\u001b[39m)\n\u001b[1;32m    310\u001b[0m \u001b[38;5;28;01mtry\u001b[39;00m:\n\u001b[0;32m--> 311\u001b[0m     result \u001b[38;5;241m=\u001b[39m \u001b[43mfunc\u001b[49m\u001b[43m(\u001b[49m\u001b[38;5;241;43m*\u001b[39;49m\u001b[43margs\u001b[49m\u001b[43m,\u001b[49m\u001b[43m \u001b[49m\u001b[38;5;241;43m*\u001b[39;49m\u001b[38;5;241;43m*\u001b[39;49m\u001b[43mkwargs\u001b[49m\u001b[43m)\u001b[49m\n\u001b[1;32m    312\u001b[0m     \u001b[38;5;28;01mif\u001b[39;00m \u001b[38;5;28misinstance\u001b[39m(result, asyncio\u001b[38;5;241m.\u001b[39mFuture):\n\u001b[1;32m    313\u001b[0m         \u001b[38;5;66;03m# If the result is a Future, wrap it\u001b[39;00m\n\u001b[1;32m    314\u001b[0m         new_future \u001b[38;5;241m=\u001b[39m asyncio\u001b[38;5;241m.\u001b[39mensure_future(result)\n",
      "File \u001b[0;32m~/Documents/Documents - Cristian’s Laptop/GitHub/rag-knowledge-graph/venv/lib/python3.12/site-packages/llama_index/core/llms/llm.py:596\u001b[0m, in \u001b[0;36mLLM.predict\u001b[0;34m(self, prompt, **prompt_args)\u001b[0m\n\u001b[1;32m    594\u001b[0m \u001b[38;5;28;01mif\u001b[39;00m \u001b[38;5;28mself\u001b[39m\u001b[38;5;241m.\u001b[39mmetadata\u001b[38;5;241m.\u001b[39mis_chat_model:\n\u001b[1;32m    595\u001b[0m     messages \u001b[38;5;241m=\u001b[39m \u001b[38;5;28mself\u001b[39m\u001b[38;5;241m.\u001b[39m_get_messages(prompt, \u001b[38;5;241m*\u001b[39m\u001b[38;5;241m*\u001b[39mprompt_args)\n\u001b[0;32m--> 596\u001b[0m     chat_response \u001b[38;5;241m=\u001b[39m \u001b[38;5;28;43mself\u001b[39;49m\u001b[38;5;241;43m.\u001b[39;49m\u001b[43mchat\u001b[49m\u001b[43m(\u001b[49m\u001b[43mmessages\u001b[49m\u001b[43m)\u001b[49m\n\u001b[1;32m    597\u001b[0m     output \u001b[38;5;241m=\u001b[39m chat_response\u001b[38;5;241m.\u001b[39mmessage\u001b[38;5;241m.\u001b[39mcontent \u001b[38;5;129;01mor\u001b[39;00m \u001b[38;5;124m\"\u001b[39m\u001b[38;5;124m\"\u001b[39m\n\u001b[1;32m    598\u001b[0m \u001b[38;5;28;01melse\u001b[39;00m:\n",
      "File \u001b[0;32m~/Documents/Documents - Cristian’s Laptop/GitHub/rag-knowledge-graph/venv/lib/python3.12/site-packages/llama_index/core/instrumentation/dispatcher.py:311\u001b[0m, in \u001b[0;36mDispatcher.span.<locals>.wrapper\u001b[0;34m(func, instance, args, kwargs)\u001b[0m\n\u001b[1;32m    308\u001b[0m             _logger\u001b[38;5;241m.\u001b[39mdebug(\u001b[38;5;124mf\u001b[39m\u001b[38;5;124m\"\u001b[39m\u001b[38;5;124mFailed to reset active_span_id: \u001b[39m\u001b[38;5;132;01m{\u001b[39;00me\u001b[38;5;132;01m}\u001b[39;00m\u001b[38;5;124m\"\u001b[39m)\n\u001b[1;32m    310\u001b[0m \u001b[38;5;28;01mtry\u001b[39;00m:\n\u001b[0;32m--> 311\u001b[0m     result \u001b[38;5;241m=\u001b[39m \u001b[43mfunc\u001b[49m\u001b[43m(\u001b[49m\u001b[38;5;241;43m*\u001b[39;49m\u001b[43margs\u001b[49m\u001b[43m,\u001b[49m\u001b[43m \u001b[49m\u001b[38;5;241;43m*\u001b[39;49m\u001b[38;5;241;43m*\u001b[39;49m\u001b[43mkwargs\u001b[49m\u001b[43m)\u001b[49m\n\u001b[1;32m    312\u001b[0m     \u001b[38;5;28;01mif\u001b[39;00m \u001b[38;5;28misinstance\u001b[39m(result, asyncio\u001b[38;5;241m.\u001b[39mFuture):\n\u001b[1;32m    313\u001b[0m         \u001b[38;5;66;03m# If the result is a Future, wrap it\u001b[39;00m\n\u001b[1;32m    314\u001b[0m         new_future \u001b[38;5;241m=\u001b[39m asyncio\u001b[38;5;241m.\u001b[39mensure_future(result)\n",
      "File \u001b[0;32m~/Documents/Documents - Cristian’s Laptop/GitHub/rag-knowledge-graph/venv/lib/python3.12/site-packages/llama_index/core/llms/callbacks.py:173\u001b[0m, in \u001b[0;36mllm_chat_callback.<locals>.wrap.<locals>.wrapped_llm_chat\u001b[0;34m(_self, messages, **kwargs)\u001b[0m\n\u001b[1;32m    164\u001b[0m event_id \u001b[38;5;241m=\u001b[39m callback_manager\u001b[38;5;241m.\u001b[39mon_event_start(\n\u001b[1;32m    165\u001b[0m     CBEventType\u001b[38;5;241m.\u001b[39mLLM,\n\u001b[1;32m    166\u001b[0m     payload\u001b[38;5;241m=\u001b[39m{\n\u001b[0;32m   (...)\u001b[0m\n\u001b[1;32m    170\u001b[0m     },\n\u001b[1;32m    171\u001b[0m )\n\u001b[1;32m    172\u001b[0m \u001b[38;5;28;01mtry\u001b[39;00m:\n\u001b[0;32m--> 173\u001b[0m     f_return_val \u001b[38;5;241m=\u001b[39m \u001b[43mf\u001b[49m\u001b[43m(\u001b[49m\u001b[43m_self\u001b[49m\u001b[43m,\u001b[49m\u001b[43m \u001b[49m\u001b[43mmessages\u001b[49m\u001b[43m,\u001b[49m\u001b[43m \u001b[49m\u001b[38;5;241;43m*\u001b[39;49m\u001b[38;5;241;43m*\u001b[39;49m\u001b[43mkwargs\u001b[49m\u001b[43m)\u001b[49m\n\u001b[1;32m    174\u001b[0m \u001b[38;5;28;01mexcept\u001b[39;00m \u001b[38;5;167;01mBaseException\u001b[39;00m \u001b[38;5;28;01mas\u001b[39;00m e:\n\u001b[1;32m    175\u001b[0m     callback_manager\u001b[38;5;241m.\u001b[39mon_event_end(\n\u001b[1;32m    176\u001b[0m         CBEventType\u001b[38;5;241m.\u001b[39mLLM,\n\u001b[1;32m    177\u001b[0m         payload\u001b[38;5;241m=\u001b[39m{EventPayload\u001b[38;5;241m.\u001b[39mEXCEPTION: e},\n\u001b[1;32m    178\u001b[0m         event_id\u001b[38;5;241m=\u001b[39mevent_id,\n\u001b[1;32m    179\u001b[0m     )\n",
      "File \u001b[0;32m~/Documents/Documents - Cristian’s Laptop/GitHub/rag-knowledge-graph/venv/lib/python3.12/site-packages/llama_index/llms/gemini/base.py:204\u001b[0m, in \u001b[0;36mGemini.chat\u001b[0;34m(self, messages, **kwargs)\u001b[0m\n\u001b[1;32m    202\u001b[0m \u001b[38;5;241m*\u001b[39mhistory, next_msg \u001b[38;5;241m=\u001b[39m \u001b[38;5;28mmap\u001b[39m(chat_message_to_gemini, merged_messages)\n\u001b[1;32m    203\u001b[0m chat \u001b[38;5;241m=\u001b[39m \u001b[38;5;28mself\u001b[39m\u001b[38;5;241m.\u001b[39m_model\u001b[38;5;241m.\u001b[39mstart_chat(history\u001b[38;5;241m=\u001b[39mhistory)\n\u001b[0;32m--> 204\u001b[0m response \u001b[38;5;241m=\u001b[39m \u001b[43mchat\u001b[49m\u001b[38;5;241;43m.\u001b[39;49m\u001b[43msend_message\u001b[49m\u001b[43m(\u001b[49m\u001b[43mnext_msg\u001b[49m\u001b[43m)\u001b[49m\n\u001b[1;32m    205\u001b[0m \u001b[38;5;28;01mreturn\u001b[39;00m chat_from_gemini_response(response)\n",
      "File \u001b[0;32m~/Documents/Documents - Cristian’s Laptop/GitHub/rag-knowledge-graph/venv/lib/python3.12/site-packages/google/generativeai/generative_models.py:578\u001b[0m, in \u001b[0;36msend_message\u001b[0;34m(self, content, generation_config, safety_settings, stream, tools, tool_config, request_options)\u001b[0m\n\u001b[1;32m    575\u001b[0m     \u001b[38;5;241m*\u001b[39mhistory, content \u001b[38;5;241m=\u001b[39m history\n\u001b[1;32m    576\u001b[0m     \u001b[38;5;28;01mreturn\u001b[39;00m history, content, response\n\u001b[0;32m--> 578\u001b[0m \u001b[38;5;28;01masync\u001b[39;00m \u001b[38;5;28;01mdef\u001b[39;00m \u001b[38;5;21msend_message_async\u001b[39m(\n\u001b[1;32m    579\u001b[0m     \u001b[38;5;28mself\u001b[39m,\n\u001b[1;32m    580\u001b[0m     content: content_types\u001b[38;5;241m.\u001b[39mContentType,\n\u001b[1;32m    581\u001b[0m     \u001b[38;5;241m*\u001b[39m,\n\u001b[1;32m    582\u001b[0m     generation_config: generation_types\u001b[38;5;241m.\u001b[39mGenerationConfigType \u001b[38;5;241m=\u001b[39m \u001b[38;5;28;01mNone\u001b[39;00m,\n\u001b[1;32m    583\u001b[0m     safety_settings: safety_types\u001b[38;5;241m.\u001b[39mSafetySettingOptions \u001b[38;5;241m=\u001b[39m \u001b[38;5;28;01mNone\u001b[39;00m,\n\u001b[1;32m    584\u001b[0m     stream: \u001b[38;5;28mbool\u001b[39m \u001b[38;5;241m=\u001b[39m \u001b[38;5;28;01mFalse\u001b[39;00m,\n\u001b[1;32m    585\u001b[0m     tools: content_types\u001b[38;5;241m.\u001b[39mFunctionLibraryType \u001b[38;5;241m|\u001b[39m \u001b[38;5;28;01mNone\u001b[39;00m \u001b[38;5;241m=\u001b[39m \u001b[38;5;28;01mNone\u001b[39;00m,\n\u001b[1;32m    586\u001b[0m     tool_config: content_types\u001b[38;5;241m.\u001b[39mToolConfigType \u001b[38;5;241m|\u001b[39m \u001b[38;5;28;01mNone\u001b[39;00m \u001b[38;5;241m=\u001b[39m \u001b[38;5;28;01mNone\u001b[39;00m,\n\u001b[1;32m    587\u001b[0m ) \u001b[38;5;241m-\u001b[39m\u001b[38;5;241m>\u001b[39m generation_types\u001b[38;5;241m.\u001b[39mAsyncGenerateContentResponse:\n\u001b[1;32m    588\u001b[0m \u001b[38;5;250m    \u001b[39m\u001b[38;5;124;03m\"\"\"The async version of `ChatSession.send_message`.\"\"\"\u001b[39;00m\n\u001b[1;32m    589\u001b[0m     \u001b[38;5;28;01mif\u001b[39;00m \u001b[38;5;28mself\u001b[39m\u001b[38;5;241m.\u001b[39menable_automatic_function_calling \u001b[38;5;129;01mand\u001b[39;00m stream:\n",
      "File \u001b[0;32m~/Documents/Documents - Cristian’s Laptop/GitHub/rag-knowledge-graph/venv/lib/python3.12/site-packages/google/generativeai/generative_models.py:331\u001b[0m, in \u001b[0;36mgenerate_content\u001b[0;34m(self, contents, generation_config, safety_settings, stream, tools, tool_config, request_options)\u001b[0m\n\u001b[1;32m    320\u001b[0m         \u001b[38;5;28;01mraise\u001b[39;00m\n\u001b[1;32m    322\u001b[0m \u001b[38;5;66;03m# fmt: off\u001b[39;00m\n\u001b[1;32m    323\u001b[0m \u001b[38;5;28;01mdef\u001b[39;00m \u001b[38;5;21mcount_tokens\u001b[39m(\n\u001b[1;32m    324\u001b[0m     \u001b[38;5;28mself\u001b[39m,\n\u001b[1;32m    325\u001b[0m     contents: content_types\u001b[38;5;241m.\u001b[39mContentsType \u001b[38;5;241m=\u001b[39m \u001b[38;5;28;01mNone\u001b[39;00m,\n\u001b[1;32m    326\u001b[0m     \u001b[38;5;241m*\u001b[39m,\n\u001b[1;32m    327\u001b[0m     generation_config: generation_types\u001b[38;5;241m.\u001b[39mGenerationConfigType \u001b[38;5;241m|\u001b[39m \u001b[38;5;28;01mNone\u001b[39;00m \u001b[38;5;241m=\u001b[39m \u001b[38;5;28;01mNone\u001b[39;00m,\n\u001b[1;32m    328\u001b[0m     safety_settings: safety_types\u001b[38;5;241m.\u001b[39mSafetySettingOptions \u001b[38;5;241m|\u001b[39m \u001b[38;5;28;01mNone\u001b[39;00m \u001b[38;5;241m=\u001b[39m \u001b[38;5;28;01mNone\u001b[39;00m,\n\u001b[1;32m    329\u001b[0m     tools: content_types\u001b[38;5;241m.\u001b[39mFunctionLibraryType \u001b[38;5;241m|\u001b[39m \u001b[38;5;28;01mNone\u001b[39;00m \u001b[38;5;241m=\u001b[39m \u001b[38;5;28;01mNone\u001b[39;00m,\n\u001b[1;32m    330\u001b[0m     tool_config: content_types\u001b[38;5;241m.\u001b[39mToolConfigType \u001b[38;5;241m|\u001b[39m \u001b[38;5;28;01mNone\u001b[39;00m \u001b[38;5;241m=\u001b[39m \u001b[38;5;28;01mNone\u001b[39;00m,\n\u001b[0;32m--> 331\u001b[0m     request_options: \u001b[38;5;28mdict\u001b[39m[\u001b[38;5;28mstr\u001b[39m, Any] \u001b[38;5;241m|\u001b[39m \u001b[38;5;28;01mNone\u001b[39;00m \u001b[38;5;241m=\u001b[39m \u001b[38;5;28;01mNone\u001b[39;00m,\n\u001b[1;32m    332\u001b[0m ) \u001b[38;5;241m-\u001b[39m\u001b[38;5;241m>\u001b[39m glm\u001b[38;5;241m.\u001b[39mCountTokensResponse:\n\u001b[1;32m    333\u001b[0m     \u001b[38;5;28;01mif\u001b[39;00m request_options \u001b[38;5;129;01mis\u001b[39;00m \u001b[38;5;28;01mNone\u001b[39;00m:\n\u001b[1;32m    334\u001b[0m         request_options \u001b[38;5;241m=\u001b[39m {}\n",
      "File \u001b[0;32m~/Documents/Documents - Cristian’s Laptop/GitHub/rag-knowledge-graph/venv/lib/python3.12/site-packages/google/ai/generativelanguage_v1beta/services/generative_service/client.py:830\u001b[0m, in \u001b[0;36mgenerate_content\u001b[0;34m(self, request, model, contents, retry, timeout, metadata)\u001b[0m\n\u001b[1;32m    819\u001b[0m     \u001b[38;5;66;03m# Done; return the response.\u001b[39;00m\n\u001b[1;32m    820\u001b[0m     \u001b[38;5;28;01mreturn\u001b[39;00m response\n\u001b[1;32m    822\u001b[0m \u001b[38;5;28;01mdef\u001b[39;00m \u001b[38;5;21mgenerate_answer\u001b[39m(\n\u001b[1;32m    823\u001b[0m     \u001b[38;5;28mself\u001b[39m,\n\u001b[1;32m    824\u001b[0m     request: Optional[Union[generative_service\u001b[38;5;241m.\u001b[39mGenerateAnswerRequest, \u001b[38;5;28mdict\u001b[39m]] \u001b[38;5;241m=\u001b[39m \u001b[38;5;28;01mNone\u001b[39;00m,\n\u001b[1;32m    825\u001b[0m     \u001b[38;5;241m*\u001b[39m,\n\u001b[1;32m    826\u001b[0m     model: Optional[\u001b[38;5;28mstr\u001b[39m] \u001b[38;5;241m=\u001b[39m \u001b[38;5;28;01mNone\u001b[39;00m,\n\u001b[1;32m    827\u001b[0m     contents: Optional[MutableSequence[content\u001b[38;5;241m.\u001b[39mContent]] \u001b[38;5;241m=\u001b[39m \u001b[38;5;28;01mNone\u001b[39;00m,\n\u001b[1;32m    828\u001b[0m     safety_settings: Optional[MutableSequence[safety\u001b[38;5;241m.\u001b[39mSafetySetting]] \u001b[38;5;241m=\u001b[39m \u001b[38;5;28;01mNone\u001b[39;00m,\n\u001b[1;32m    829\u001b[0m     answer_style: Optional[\n\u001b[0;32m--> 830\u001b[0m         generative_service\u001b[38;5;241m.\u001b[39mGenerateAnswerRequest\u001b[38;5;241m.\u001b[39mAnswerStyle\n\u001b[1;32m    831\u001b[0m     ] \u001b[38;5;241m=\u001b[39m \u001b[38;5;28;01mNone\u001b[39;00m,\n\u001b[1;32m    832\u001b[0m     retry: OptionalRetry \u001b[38;5;241m=\u001b[39m gapic_v1\u001b[38;5;241m.\u001b[39mmethod\u001b[38;5;241m.\u001b[39mDEFAULT,\n\u001b[1;32m    833\u001b[0m     timeout: Union[\u001b[38;5;28mfloat\u001b[39m, \u001b[38;5;28mobject\u001b[39m] \u001b[38;5;241m=\u001b[39m gapic_v1\u001b[38;5;241m.\u001b[39mmethod\u001b[38;5;241m.\u001b[39mDEFAULT,\n\u001b[1;32m    834\u001b[0m     metadata: Sequence[Tuple[\u001b[38;5;28mstr\u001b[39m, \u001b[38;5;28mstr\u001b[39m]] \u001b[38;5;241m=\u001b[39m (),\n\u001b[1;32m    835\u001b[0m ) \u001b[38;5;241m-\u001b[39m\u001b[38;5;241m>\u001b[39m generative_service\u001b[38;5;241m.\u001b[39mGenerateAnswerResponse:\n\u001b[1;32m    836\u001b[0m \u001b[38;5;250m    \u001b[39m\u001b[38;5;124mr\u001b[39m\u001b[38;5;124;03m\"\"\"Generates a grounded answer from the model given an input\u001b[39;00m\n\u001b[1;32m    837\u001b[0m \u001b[38;5;124;03m    ``GenerateAnswerRequest``.\u001b[39;00m\n\u001b[1;32m    838\u001b[0m \n\u001b[0;32m   (...)\u001b[0m\n\u001b[1;32m    933\u001b[0m \n\u001b[1;32m    934\u001b[0m \u001b[38;5;124;03m    \"\"\"\u001b[39;00m\n\u001b[1;32m    935\u001b[0m     \u001b[38;5;66;03m# Create or coerce a protobuf request object.\u001b[39;00m\n\u001b[1;32m    936\u001b[0m     \u001b[38;5;66;03m# - Quick check: If we got a request object, we should *not* have\u001b[39;00m\n\u001b[1;32m    937\u001b[0m     \u001b[38;5;66;03m#   gotten any keyword arguments that map to the request.\u001b[39;00m\n",
      "File \u001b[0;32m~/Documents/Documents - Cristian’s Laptop/GitHub/rag-knowledge-graph/venv/lib/python3.12/site-packages/google/api_core/gapic_v1/method.py:131\u001b[0m, in \u001b[0;36m_GapicCallable.__call__\u001b[0;34m(self, timeout, retry, compression, *args, **kwargs)\u001b[0m\n\u001b[1;32m    128\u001b[0m \u001b[38;5;28;01mif\u001b[39;00m \u001b[38;5;28mself\u001b[39m\u001b[38;5;241m.\u001b[39m_compression \u001b[38;5;129;01mis\u001b[39;00m \u001b[38;5;129;01mnot\u001b[39;00m \u001b[38;5;28;01mNone\u001b[39;00m:\n\u001b[1;32m    129\u001b[0m     kwargs[\u001b[38;5;124m\"\u001b[39m\u001b[38;5;124mcompression\u001b[39m\u001b[38;5;124m\"\u001b[39m] \u001b[38;5;241m=\u001b[39m compression\n\u001b[0;32m--> 131\u001b[0m \u001b[38;5;28;01mreturn\u001b[39;00m \u001b[43mwrapped_func\u001b[49m\u001b[43m(\u001b[49m\u001b[38;5;241;43m*\u001b[39;49m\u001b[43margs\u001b[49m\u001b[43m,\u001b[49m\u001b[43m \u001b[49m\u001b[38;5;241;43m*\u001b[39;49m\u001b[38;5;241;43m*\u001b[39;49m\u001b[43mkwargs\u001b[49m\u001b[43m)\u001b[49m\n",
      "File \u001b[0;32m~/Documents/Documents - Cristian’s Laptop/GitHub/rag-knowledge-graph/venv/lib/python3.12/site-packages/google/api_core/retry/retry_unary.py:293\u001b[0m, in \u001b[0;36mRetry.__call__.<locals>.retry_wrapped_func\u001b[0;34m(*args, **kwargs)\u001b[0m\n\u001b[1;32m    289\u001b[0m target \u001b[38;5;241m=\u001b[39m functools\u001b[38;5;241m.\u001b[39mpartial(func, \u001b[38;5;241m*\u001b[39margs, \u001b[38;5;241m*\u001b[39m\u001b[38;5;241m*\u001b[39mkwargs)\n\u001b[1;32m    290\u001b[0m sleep_generator \u001b[38;5;241m=\u001b[39m exponential_sleep_generator(\n\u001b[1;32m    291\u001b[0m     \u001b[38;5;28mself\u001b[39m\u001b[38;5;241m.\u001b[39m_initial, \u001b[38;5;28mself\u001b[39m\u001b[38;5;241m.\u001b[39m_maximum, multiplier\u001b[38;5;241m=\u001b[39m\u001b[38;5;28mself\u001b[39m\u001b[38;5;241m.\u001b[39m_multiplier\n\u001b[1;32m    292\u001b[0m )\n\u001b[0;32m--> 293\u001b[0m \u001b[38;5;28;01mreturn\u001b[39;00m \u001b[43mretry_target\u001b[49m\u001b[43m(\u001b[49m\n\u001b[1;32m    294\u001b[0m \u001b[43m    \u001b[49m\u001b[43mtarget\u001b[49m\u001b[43m,\u001b[49m\n\u001b[1;32m    295\u001b[0m \u001b[43m    \u001b[49m\u001b[38;5;28;43mself\u001b[39;49m\u001b[38;5;241;43m.\u001b[39;49m\u001b[43m_predicate\u001b[49m\u001b[43m,\u001b[49m\n\u001b[1;32m    296\u001b[0m \u001b[43m    \u001b[49m\u001b[43msleep_generator\u001b[49m\u001b[43m,\u001b[49m\n\u001b[1;32m    297\u001b[0m \u001b[43m    \u001b[49m\u001b[43mtimeout\u001b[49m\u001b[38;5;241;43m=\u001b[39;49m\u001b[38;5;28;43mself\u001b[39;49m\u001b[38;5;241;43m.\u001b[39;49m\u001b[43m_timeout\u001b[49m\u001b[43m,\u001b[49m\n\u001b[1;32m    298\u001b[0m \u001b[43m    \u001b[49m\u001b[43mon_error\u001b[49m\u001b[38;5;241;43m=\u001b[39;49m\u001b[43mon_error\u001b[49m\u001b[43m,\u001b[49m\n\u001b[1;32m    299\u001b[0m \u001b[43m\u001b[49m\u001b[43m)\u001b[49m\n",
      "File \u001b[0;32m~/Documents/Documents - Cristian’s Laptop/GitHub/rag-knowledge-graph/venv/lib/python3.12/site-packages/google/api_core/retry/retry_unary.py:153\u001b[0m, in \u001b[0;36mretry_target\u001b[0;34m(target, predicate, sleep_generator, timeout, on_error, exception_factory, **kwargs)\u001b[0m\n\u001b[1;32m    149\u001b[0m \u001b[38;5;66;03m# pylint: disable=broad-except\u001b[39;00m\n\u001b[1;32m    150\u001b[0m \u001b[38;5;66;03m# This function explicitly must deal with broad exceptions.\u001b[39;00m\n\u001b[1;32m    151\u001b[0m \u001b[38;5;28;01mexcept\u001b[39;00m \u001b[38;5;167;01mException\u001b[39;00m \u001b[38;5;28;01mas\u001b[39;00m exc:\n\u001b[1;32m    152\u001b[0m     \u001b[38;5;66;03m# defer to shared logic for handling errors\u001b[39;00m\n\u001b[0;32m--> 153\u001b[0m     \u001b[43m_retry_error_helper\u001b[49m\u001b[43m(\u001b[49m\n\u001b[1;32m    154\u001b[0m \u001b[43m        \u001b[49m\u001b[43mexc\u001b[49m\u001b[43m,\u001b[49m\n\u001b[1;32m    155\u001b[0m \u001b[43m        \u001b[49m\u001b[43mdeadline\u001b[49m\u001b[43m,\u001b[49m\n\u001b[1;32m    156\u001b[0m \u001b[43m        \u001b[49m\u001b[43msleep\u001b[49m\u001b[43m,\u001b[49m\n\u001b[1;32m    157\u001b[0m \u001b[43m        \u001b[49m\u001b[43merror_list\u001b[49m\u001b[43m,\u001b[49m\n\u001b[1;32m    158\u001b[0m \u001b[43m        \u001b[49m\u001b[43mpredicate\u001b[49m\u001b[43m,\u001b[49m\n\u001b[1;32m    159\u001b[0m \u001b[43m        \u001b[49m\u001b[43mon_error\u001b[49m\u001b[43m,\u001b[49m\n\u001b[1;32m    160\u001b[0m \u001b[43m        \u001b[49m\u001b[43mexception_factory\u001b[49m\u001b[43m,\u001b[49m\n\u001b[1;32m    161\u001b[0m \u001b[43m        \u001b[49m\u001b[43mtimeout\u001b[49m\u001b[43m,\u001b[49m\n\u001b[1;32m    162\u001b[0m \u001b[43m    \u001b[49m\u001b[43m)\u001b[49m\n\u001b[1;32m    163\u001b[0m     \u001b[38;5;66;03m# if exception not raised, sleep before next attempt\u001b[39;00m\n\u001b[1;32m    164\u001b[0m     time\u001b[38;5;241m.\u001b[39msleep(sleep)\n",
      "File \u001b[0;32m~/Documents/Documents - Cristian’s Laptop/GitHub/rag-knowledge-graph/venv/lib/python3.12/site-packages/google/api_core/retry/retry_base.py:212\u001b[0m, in \u001b[0;36m_retry_error_helper\u001b[0;34m(exc, deadline, next_sleep, error_list, predicate_fn, on_error_fn, exc_factory_fn, original_timeout)\u001b[0m\n\u001b[1;32m    206\u001b[0m \u001b[38;5;28;01mif\u001b[39;00m \u001b[38;5;129;01mnot\u001b[39;00m predicate_fn(exc):\n\u001b[1;32m    207\u001b[0m     final_exc, source_exc \u001b[38;5;241m=\u001b[39m exc_factory_fn(\n\u001b[1;32m    208\u001b[0m         error_list,\n\u001b[1;32m    209\u001b[0m         RetryFailureReason\u001b[38;5;241m.\u001b[39mNON_RETRYABLE_ERROR,\n\u001b[1;32m    210\u001b[0m         original_timeout,\n\u001b[1;32m    211\u001b[0m     )\n\u001b[0;32m--> 212\u001b[0m     \u001b[38;5;28;01mraise\u001b[39;00m final_exc \u001b[38;5;28;01mfrom\u001b[39;00m \u001b[38;5;21;01msource_exc\u001b[39;00m\n\u001b[1;32m    213\u001b[0m \u001b[38;5;28;01mif\u001b[39;00m on_error_fn \u001b[38;5;129;01mis\u001b[39;00m \u001b[38;5;129;01mnot\u001b[39;00m \u001b[38;5;28;01mNone\u001b[39;00m:\n\u001b[1;32m    214\u001b[0m     on_error_fn(exc)\n",
      "File \u001b[0;32m~/Documents/Documents - Cristian’s Laptop/GitHub/rag-knowledge-graph/venv/lib/python3.12/site-packages/google/api_core/retry/retry_unary.py:144\u001b[0m, in \u001b[0;36mretry_target\u001b[0;34m(target, predicate, sleep_generator, timeout, on_error, exception_factory, **kwargs)\u001b[0m\n\u001b[1;32m    142\u001b[0m \u001b[38;5;28;01mfor\u001b[39;00m sleep \u001b[38;5;129;01min\u001b[39;00m sleep_generator:\n\u001b[1;32m    143\u001b[0m     \u001b[38;5;28;01mtry\u001b[39;00m:\n\u001b[0;32m--> 144\u001b[0m         result \u001b[38;5;241m=\u001b[39m \u001b[43mtarget\u001b[49m\u001b[43m(\u001b[49m\u001b[43m)\u001b[49m\n\u001b[1;32m    145\u001b[0m         \u001b[38;5;28;01mif\u001b[39;00m inspect\u001b[38;5;241m.\u001b[39misawaitable(result):\n\u001b[1;32m    146\u001b[0m             warnings\u001b[38;5;241m.\u001b[39mwarn(_ASYNC_RETRY_WARNING)\n",
      "File \u001b[0;32m~/Documents/Documents - Cristian’s Laptop/GitHub/rag-knowledge-graph/venv/lib/python3.12/site-packages/google/api_core/timeout.py:120\u001b[0m, in \u001b[0;36mTimeToDeadlineTimeout.__call__.<locals>.func_with_timeout\u001b[0;34m(*args, **kwargs)\u001b[0m\n\u001b[1;32m    117\u001b[0m     \u001b[38;5;66;03m# Avoid setting negative timeout\u001b[39;00m\n\u001b[1;32m    118\u001b[0m     kwargs[\u001b[38;5;124m\"\u001b[39m\u001b[38;5;124mtimeout\u001b[39m\u001b[38;5;124m\"\u001b[39m] \u001b[38;5;241m=\u001b[39m \u001b[38;5;28mmax\u001b[39m(\u001b[38;5;241m0\u001b[39m, \u001b[38;5;28mself\u001b[39m\u001b[38;5;241m.\u001b[39m_timeout \u001b[38;5;241m-\u001b[39m time_since_first_attempt)\n\u001b[0;32m--> 120\u001b[0m \u001b[38;5;28;01mreturn\u001b[39;00m \u001b[43mfunc\u001b[49m\u001b[43m(\u001b[49m\u001b[38;5;241;43m*\u001b[39;49m\u001b[43margs\u001b[49m\u001b[43m,\u001b[49m\u001b[43m \u001b[49m\u001b[38;5;241;43m*\u001b[39;49m\u001b[38;5;241;43m*\u001b[39;49m\u001b[43mkwargs\u001b[49m\u001b[43m)\u001b[49m\n",
      "File \u001b[0;32m~/Documents/Documents - Cristian’s Laptop/GitHub/rag-knowledge-graph/venv/lib/python3.12/site-packages/google/api_core/grpc_helpers.py:78\u001b[0m, in \u001b[0;36m_wrap_unary_errors.<locals>.error_remapped_callable\u001b[0;34m(*args, **kwargs)\u001b[0m\n\u001b[1;32m     76\u001b[0m     \u001b[38;5;28;01mreturn\u001b[39;00m callable_(\u001b[38;5;241m*\u001b[39margs, \u001b[38;5;241m*\u001b[39m\u001b[38;5;241m*\u001b[39mkwargs)\n\u001b[1;32m     77\u001b[0m \u001b[38;5;28;01mexcept\u001b[39;00m grpc\u001b[38;5;241m.\u001b[39mRpcError \u001b[38;5;28;01mas\u001b[39;00m exc:\n\u001b[0;32m---> 78\u001b[0m     \u001b[38;5;28;01mraise\u001b[39;00m exceptions\u001b[38;5;241m.\u001b[39mfrom_grpc_error(exc) \u001b[38;5;28;01mfrom\u001b[39;00m \u001b[38;5;21;01mexc\u001b[39;00m\n",
      "\u001b[0;31mResourceExhausted\u001b[0m: 429 Resource has been exhausted (e.g. check quota)."
     ]
    }
   ],
   "source": [
    "graph_store = Neo4jGraphStore(\n",
    "    username=user,\n",
    "    password=password,\n",
    "    url=uri,\n",
    ")\n",
    "\n",
    "storage_context = StorageContext.from_defaults(graph_store=graph_store)\n",
    "\n",
    "# NOTE: can take a while!\n",
    "index = KnowledgeGraphIndex.from_documents(\n",
    "    documents,\n",
    "    storage_context=storage_context,\n",
    "    max_triplets_per_chunk=2,\n",
    ")"
   ]
  },
  {
   "cell_type": "code",
   "execution_count": null,
   "metadata": {},
   "outputs": [],
   "source": [
    "context = StorageContext()\n",
    "graph_store = Neo4jGraphStore()\n",
    "index = KnowledgeGraphIndex(context=context, graph_store=graph_store)\n",
    "\n",
    "index.add_documents(documents)"
   ]
  }
 ],
 "metadata": {
  "kernelspec": {
   "display_name": "venv",
   "language": "python",
   "name": "python3"
  },
  "language_info": {
   "codemirror_mode": {
    "name": "ipython",
    "version": 3
   },
   "file_extension": ".py",
   "mimetype": "text/x-python",
   "name": "python",
   "nbconvert_exporter": "python",
   "pygments_lexer": "ipython3",
   "version": "3.12.1"
  }
 },
 "nbformat": 4,
 "nbformat_minor": 2
}
